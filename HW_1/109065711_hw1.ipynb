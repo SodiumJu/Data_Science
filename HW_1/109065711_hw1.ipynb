{
 "cells": [
  {
   "cell_type": "code",
   "execution_count": 506,
   "metadata": {},
   "outputs": [],
   "source": [
    "import requests"
   ]
  },
  {
   "cell_type": "code",
   "execution_count": 507,
   "metadata": {},
   "outputs": [],
   "source": [
    "import re"
   ]
  },
  {
   "cell_type": "code",
   "execution_count": 508,
   "metadata": {},
   "outputs": [],
   "source": [
    "from bs4 import BeautifulSoup"
   ]
  },
  {
   "cell_type": "code",
   "execution_count": 509,
   "metadata": {},
   "outputs": [],
   "source": [
    "Nonce=\"Nonce: \"\n",
    "Number_of_Transactions=\"Number of Transactions: \"\n",
    "Final_Balance=\"Final Balance: \"\n",
    "Total_Sent=\"Total Sent: \"\n",
    "Total_Received=\"Total Received: \"\n",
    "Total_Fees=\"Total Fees: \"\n",
    "Date=\"Date: \"\n",
    "To=\"To: \"\n",
    "Amount=\"Amount: \"\n",
    "ETH=\" ETH\"\n",
    "Line=\"--------------------------------------------------------------------------\"\n",
    "Arrow=\" -> \"\n",
    "\n",
    "ID=\"109065711\""
   ]
  },
  {
   "cell_type": "code",
   "execution_count": 510,
   "metadata": {},
   "outputs": [],
   "source": [
    "def find_info(divs):\n",
    "    v_Nonce=re.findall(r'Nonce</span></div></div>.* opacity=\"1\">([0-9]*[\\,]?[0-9]+)</span>.*Number of Transactions', str(divs[0]))[0]\n",
    "    v_Transactions=re.findall(r'Number of Transactions</span></div></div>.*opacity=\"1\">([0-9]*[\\,]?[0-9]+)</span>.*Final Balance', str(divs[0]))[0]\n",
    "    v_Balance=re.findall(r'Final Balance</span></div></div>.*opacity=\"1\">([0-9]+.[0-9]+) ETH</span>.*Total Sent', str(divs[0]))[0]\n",
    "    v_T_Sent=re.findall(r'Total Sent</span></div></div>.*opacity=\"1\">([0-9]+.[0-9]+) ETH</span>.*Total Received', str(divs[0]))[0]\n",
    "    v_T_Received=re.findall(r'Total Received</span></div></div>.*opacity=\"1\">([0-9]+.[0-9]+) ETH</span>.*Total Fees', str(divs[0]))[0]\n",
    "    v_T_Fees=re.findall(r'Total Fees</span></div></div>.*opacity=\"1\">([0-9]+.[0-9]+) ETH</span>.*', str(divs[0]))[0]\n",
    "    return v_Nonce,v_Transactions,v_Balance,v_T_Sent,v_T_Received,v_T_Fees"
   ]
  },
  {
   "cell_type": "code",
   "execution_count": 511,
   "metadata": {},
   "outputs": [],
   "source": [
    "def print_to(not_end,f,v_Nonce,v_Transactions,v_Balance,v_T_Sent,v_T_Received,v_T_Fees,v_T_Date,v_To,v_amount):\n",
    "    f.write(Nonce+v_Nonce+\"\\n\")\n",
    "    f.write(Number_of_Transactions+v_Transactions+\"\\n\")\n",
    "    f.write(Final_Balance+v_Balance+ETH+\"\\n\")\n",
    "    f.write(Total_Sent+v_T_Sent+ETH+\"\\n\")\n",
    "    f.write(Total_Received+v_T_Received+ETH+\"\\n\")\n",
    "    f.write(Total_Fees+v_T_Fees+ETH+\"\\n\")\n",
    "    if(not_end):\n",
    "        f.write(Date+v_T_Date+\"\\n\")\n",
    "        f.write(To+v_To+\"\\n\")\n",
    "        f.write(Amount+v_amount+ETH+\"\\n\")\n",
    "    f.write(Line+\"\\n\")"
   ]
  },
  {
   "cell_type": "code",
   "execution_count": 512,
   "metadata": {},
   "outputs": [],
   "source": [
    "def tracing_ornot(transactions):\n",
    "    not_end=False\n",
    "    send_transactions=[]\n",
    "    for item in transactions:\n",
    "        if(re.findall(r'Amount</span></div></div>.* opacity=\"1\">(-[0-9]+.[0-9]+) ETH',str(item))!=[]):\n",
    "            send_transactions.append(item)\n",
    "            not_end=True\n",
    "    return not_end,send_transactions"
   ]
  },
  {
   "cell_type": "code",
   "execution_count": 513,
   "metadata": {},
   "outputs": [],
   "source": [
    "def track_hash(target):\n",
    "    targeturl=\"https://www.blockchain.com/eth/address/\"+target+\"?view=standard\"\n",
    "    request=requests.get(targeturl)\n",
    "    soup= BeautifulSoup(request.text,\"html.parser\")\n",
    "    divs=soup.find_all(\"div\", class_ = \"enzKJw\")\n",
    "    transactions=soup.find_all(\"div\", class_ = \"koYsLf\",direction=\"vertical\")\n",
    "    return divs, transactions"
   ]
  },
  {
   "cell_type": "code",
   "execution_count": 514,
   "metadata": {},
   "outputs": [],
   "source": [
    "def find_oldest_tran(send_transactions):\n",
    "    old_date=99202006061458\n",
    "            \n",
    "    #for item in send_transactions:\n",
    "    for index, item in enumerate(send_transactions):\n",
    "        temp_date=re.findall(r'Date</span></div></div>.*opacity=\"1\">([0-9]+-[0-9]+-[0-9]+ [0-9]+:[0-9]+)',str(item))\n",
    "        date=int(re.sub(r'-| |:', \"\",temp_date[0]))\n",
    "        if(date<old_date):\n",
    "            old_date=date\n",
    "            old_index=index\n",
    "    last_hash=re.findall(r'<g id=\"arrow_x5F_full_x5F_right\">.*opacity=\"1\">(0x[a-z_0-9]+)</a>',str(send_transactions[old_index]))[0]\n",
    "    last_date=re.findall(r'Date</span></div></div>.*opacity=\"1\">([0-9]+-[0-9]+-[0-9]+ [0-9]+:[0-9]+)',str(send_transactions[old_index]))[0]\n",
    "    last_amount=re.findall(r'(-[0-9]+\\.[0-9]+) ETH</span></div></div></div></div></div>',str(send_transactions[old_index]))[0]\n",
    "    return last_date,last_hash, last_amount"
   ]
  },
  {
   "cell_type": "code",
   "execution_count": 515,
   "metadata": {},
   "outputs": [],
   "source": [
    "def main_loop(line,f):\n",
    "    not_end=True\n",
    "    target=line\n",
    "    count=0\n",
    "    v_T_Date, v_To, v_amount=\"\",\"\",\"\"\n",
    "    hash_list=[]\n",
    "    \n",
    "    while(not_end and count<4):\n",
    "        \n",
    "        count=count+1\n",
    "        divs,transactions=track_hash(target)\n",
    "        not_end,send_transactions=tracing_ornot(transactions)\n",
    "        \n",
    "        v_Nonce,v_Transactions,v_Balance,v_T_Sent,v_T_Received,v_T_Fees=find_info(divs)\n",
    "        \n",
    "        if(not_end):\n",
    "            v_T_Date, v_To, v_amount=find_oldest_tran(send_transactions)\n",
    "            target=v_To\n",
    "            if(count<4):\n",
    "                hash_list.append(v_To)\n",
    "        \n",
    "        print_to(not_end,f,v_Nonce,v_Transactions,v_Balance,v_T_Sent,v_T_Received,v_T_Fees,v_T_Date,v_To,v_amount)\n",
    "    f.write(line)\n",
    "    for item in enumerate(hash_list):\n",
    "        f.write(Arrow+item[1])\n",
    "    f.write(\"\\n\")\n",
    "    f.write(Line+\"\\n\")"
   ]
  },
  {
   "cell_type": "code",
   "execution_count": 516,
   "metadata": {},
   "outputs": [],
   "source": [
    "file = open(\"ex_input_hw1.txt\", \"r\")\n",
    "f = open(ID+\"_hw1_output.txt\", \"w\")\n",
    "lines = file.readlines()\n",
    "for line in lines:\n",
    "    #print(line.strip())\n",
    "    main_loop(line.strip(),f)\n",
    "    \n",
    "f.close()"
   ]
  },
  {
   "cell_type": "code",
   "execution_count": null,
   "metadata": {},
   "outputs": [],
   "source": []
  }
 ],
 "metadata": {
  "kernelspec": {
   "display_name": "Python 3",
   "language": "python",
   "name": "python3"
  },
  "language_info": {
   "codemirror_mode": {
    "name": "ipython",
    "version": 3
   },
   "file_extension": ".py",
   "mimetype": "text/x-python",
   "name": "python",
   "nbconvert_exporter": "python",
   "pygments_lexer": "ipython3",
   "version": "3.8.3"
  }
 },
 "nbformat": 4,
 "nbformat_minor": 4
}
