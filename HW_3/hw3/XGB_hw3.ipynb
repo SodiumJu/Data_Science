{
 "cells": [
  {
   "cell_type": "code",
   "execution_count": 4,
   "metadata": {
    "collapsed": true,
    "jupyter": {
     "outputs_hidden": true
    }
   },
   "outputs": [
    {
     "name": "stdout",
     "output_type": "stream",
     "text": [
      "Collecting package metadata (current_repodata.json): done\n",
      "Solving environment: done\n",
      "\n",
      "## Package Plan ##\n",
      "\n",
      "  environment location: /opt/anaconda3\n",
      "\n",
      "  added / updated specs:\n",
      "    - lightgbm\n",
      "\n",
      "\n",
      "The following packages will be downloaded:\n",
      "\n",
      "    package                    |            build\n",
      "    ---------------------------|-----------------\n",
      "    lightgbm-3.1.1             |   py38h23ab428_0         867 KB\n",
      "    ------------------------------------------------------------\n",
      "                                           Total:         867 KB\n",
      "\n",
      "The following NEW packages will be INSTALLED:\n",
      "\n",
      "  lightgbm           pkgs/main/osx-64::lightgbm-3.1.1-py38h23ab428_0\n",
      "\n",
      "\n",
      "\n",
      "Downloading and Extracting Packages\n",
      "lightgbm-3.1.1       | 867 KB    | ##################################### | 100% \n",
      "Preparing transaction: done\n",
      "Verifying transaction: done\n",
      "Executing transaction: done\n",
      "\n",
      "Note: you may need to restart the kernel to use updated packages.\n"
     ]
    }
   ],
   "source": [
    "conda install lightgbm"
   ]
  },
  {
   "cell_type": "code",
   "execution_count": 19,
   "metadata": {},
   "outputs": [
    {
     "name": "stdout",
     "output_type": "stream",
     "text": [
      "\n",
      "Note: you may need to restart the kernel to use updated packages.\n"
     ]
    }
   ],
   "source": [
    "conda config --add channels conda-forge"
   ]
  },
  {
   "cell_type": "code",
   "execution_count": 20,
   "metadata": {
    "collapsed": true,
    "jupyter": {
     "outputs_hidden": true
    }
   },
   "outputs": [
    {
     "name": "stdout",
     "output_type": "stream",
     "text": [
      "Collecting package metadata (current_repodata.json): done\n",
      "Solving environment: done\n",
      "\n",
      "## Package Plan ##\n",
      "\n",
      "  environment location: /opt/anaconda3\n",
      "\n",
      "  added / updated specs:\n",
      "    - catboost\n",
      "\n",
      "\n",
      "The following packages will be downloaded:\n",
      "\n",
      "    package                    |            build\n",
      "    ---------------------------|-----------------\n",
      "    catboost-0.25.1            |   py38h50d1736_0        10.0 MB  conda-forge\n",
      "    ------------------------------------------------------------\n",
      "                                           Total:        10.0 MB\n",
      "\n",
      "The following NEW packages will be INSTALLED:\n",
      "\n",
      "  catboost           conda-forge/osx-64::catboost-0.25.1-py38h50d1736_0\n",
      "\n",
      "The following packages will be SUPERSEDED by a higher-priority channel:\n",
      "\n",
      "  conda              pkgs/main::conda-4.10.1-py38hecd8cb5_1 --> conda-forge::conda-4.10.1-py38h50d1736_0\n",
      "\n",
      "\n",
      "\n",
      "Downloading and Extracting Packages\n",
      "catboost-0.25.1      | 10.0 MB   | ##################################### | 100% \n",
      "Preparing transaction: done\n",
      "Verifying transaction: done\n",
      "Executing transaction: done\n",
      "\n",
      "Note: you may need to restart the kernel to use updated packages.\n"
     ]
    }
   ],
   "source": [
    "conda install catboost"
   ]
  },
  {
   "cell_type": "code",
   "execution_count": 212,
   "metadata": {
    "collapsed": true,
    "jupyter": {
     "outputs_hidden": true
    }
   },
   "outputs": [
    {
     "name": "stdout",
     "output_type": "stream",
     "text": [
      "Collecting package metadata (current_repodata.json): done\n",
      "Solving environment: done\n",
      "\n",
      "## Package Plan ##\n",
      "\n",
      "  environment location: /opt/anaconda3\n",
      "\n",
      "  added / updated specs:\n",
      "    - geopy\n",
      "\n",
      "\n",
      "The following packages will be downloaded:\n",
      "\n",
      "    package                    |            build\n",
      "    ---------------------------|-----------------\n",
      "    geographiclib-1.50         |             py_0          34 KB  conda-forge\n",
      "    geopy-2.1.0                |     pyhd3deb0d_0          64 KB  conda-forge\n",
      "    ------------------------------------------------------------\n",
      "                                           Total:          98 KB\n",
      "\n",
      "The following NEW packages will be INSTALLED:\n",
      "\n",
      "  geographiclib      conda-forge/noarch::geographiclib-1.50-py_0\n",
      "  geopy              conda-forge/noarch::geopy-2.1.0-pyhd3deb0d_0\n",
      "\n",
      "\n",
      "\n",
      "Downloading and Extracting Packages\n",
      "geopy-2.1.0          | 64 KB     | ##################################### | 100% \n",
      "geographiclib-1.50   | 34 KB     | ##################################### | 100% \n",
      "Preparing transaction: done\n",
      "Verifying transaction: done\n",
      "Executing transaction: done\n",
      "\n",
      "Note: you may need to restart the kernel to use updated packages.\n"
     ]
    }
   ],
   "source": [
    "conda install geopy"
   ]
  },
  {
   "cell_type": "code",
   "execution_count": 2,
   "metadata": {},
   "outputs": [],
   "source": [
    "from sklearn.tree import DecisionTreeClassifier\n",
    "from sklearn.metrics import accuracy_score, f1_score\n",
    "import matplotlib.pylab as plt\n",
    "import pandas as pd\n",
    "import numpy as np\n",
    "from sklearn.preprocessing import OneHotEncoder\n",
    "from sklearn.metrics import classification_report,confusion_matrix"
   ]
  },
  {
   "cell_type": "markdown",
   "metadata": {},
   "source": [
    "## Model"
   ]
  },
  {
   "cell_type": "code",
   "execution_count": 3,
   "metadata": {},
   "outputs": [],
   "source": [
    "from xgboost import XGBClassifier\n",
    "import lightgbm as lgb\n",
    "import catboost as cab"
   ]
  },
  {
   "cell_type": "markdown",
   "metadata": {},
   "source": [
    "## Input data"
   ]
  },
  {
   "cell_type": "code",
   "execution_count": 355,
   "metadata": {},
   "outputs": [],
   "source": [
    "train_df =  pd.read_csv('train.csv', sep=',', engine='python')\n",
    "df_test = pd.read_csv('test.csv')\n",
    "df_test['Weather'] = np.zeros((len(df_test),))"
   ]
  },
  {
   "cell_type": "markdown",
   "metadata": {},
   "source": [
    "#### Merge"
   ]
  },
  {
   "cell_type": "markdown",
   "metadata": {},
   "source": [
    "### Drop some and merge"
   ]
  },
  {
   "cell_type": "code",
   "execution_count": 327,
   "metadata": {},
   "outputs": [],
   "source": [
    "train_df_drop_some=train_df[~((train_df.isnull().sum(axis=1)>=10) & (train_df['Weather']==0))]"
   ]
  },
  {
   "cell_type": "code",
   "execution_count": 351,
   "metadata": {},
   "outputs": [
    {
     "data": {
      "text/html": [
       "<div>\n",
       "<style scoped>\n",
       "    .dataframe tbody tr th:only-of-type {\n",
       "        vertical-align: middle;\n",
       "    }\n",
       "\n",
       "    .dataframe tbody tr th {\n",
       "        vertical-align: top;\n",
       "    }\n",
       "\n",
       "    .dataframe thead th {\n",
       "        text-align: right;\n",
       "    }\n",
       "</style>\n",
       "<table border=\"1\" class=\"dataframe\">\n",
       "  <thead>\n",
       "    <tr style=\"text-align: right;\">\n",
       "      <th></th>\n",
       "      <th>Date</th>\n",
       "      <th>Loc</th>\n",
       "      <th>TempLow</th>\n",
       "      <th>TempHigh</th>\n",
       "      <th>Steaming</th>\n",
       "      <th>Sun</th>\n",
       "      <th>WindDir</th>\n",
       "      <th>WindSpeed</th>\n",
       "      <th>DayWindDir</th>\n",
       "      <th>NightWindDir</th>\n",
       "      <th>...</th>\n",
       "      <th>DayHumidity</th>\n",
       "      <th>NightHumidity</th>\n",
       "      <th>DayPressure</th>\n",
       "      <th>NightPressure</th>\n",
       "      <th>DayCloud</th>\n",
       "      <th>NightCloud</th>\n",
       "      <th>DayTemp</th>\n",
       "      <th>NightTemp</th>\n",
       "      <th>Weather</th>\n",
       "      <th>RISK_MM</th>\n",
       "    </tr>\n",
       "  </thead>\n",
       "  <tbody>\n",
       "    <tr>\n",
       "      <th>503</th>\n",
       "      <td>2013/4/3</td>\n",
       "      <td>NaN</td>\n",
       "      <td>NaN</td>\n",
       "      <td>NaN</td>\n",
       "      <td>NaN</td>\n",
       "      <td>NaN</td>\n",
       "      <td>NNW</td>\n",
       "      <td>NaN</td>\n",
       "      <td>ESE</td>\n",
       "      <td>NaN</td>\n",
       "      <td>...</td>\n",
       "      <td>13.859574</td>\n",
       "      <td>46.383042</td>\n",
       "      <td>NaN</td>\n",
       "      <td>1001.6</td>\n",
       "      <td>6.000000</td>\n",
       "      <td>NaN</td>\n",
       "      <td>31.5</td>\n",
       "      <td>NaN</td>\n",
       "      <td>0</td>\n",
       "      <td>0.0</td>\n",
       "    </tr>\n",
       "    <tr>\n",
       "      <th>601</th>\n",
       "      <td>2016/4/20</td>\n",
       "      <td>NaN</td>\n",
       "      <td>NaN</td>\n",
       "      <td>24.7</td>\n",
       "      <td>NaN</td>\n",
       "      <td>7.993227</td>\n",
       "      <td>SE</td>\n",
       "      <td>31.00000</td>\n",
       "      <td>NaN</td>\n",
       "      <td>NaN</td>\n",
       "      <td>...</td>\n",
       "      <td>47.028172</td>\n",
       "      <td>71.319999</td>\n",
       "      <td>NaN</td>\n",
       "      <td>NaN</td>\n",
       "      <td>NaN</td>\n",
       "      <td>NaN</td>\n",
       "      <td>13.6</td>\n",
       "      <td>23.3</td>\n",
       "      <td>0</td>\n",
       "      <td>0.0</td>\n",
       "    </tr>\n",
       "    <tr>\n",
       "      <th>1068</th>\n",
       "      <td>2010/7/16</td>\n",
       "      <td>Tuggeranong</td>\n",
       "      <td>-3.4</td>\n",
       "      <td>NaN</td>\n",
       "      <td>NaN</td>\n",
       "      <td>NaN</td>\n",
       "      <td>WNW</td>\n",
       "      <td>17.00000</td>\n",
       "      <td>NaN</td>\n",
       "      <td>NaN</td>\n",
       "      <td>...</td>\n",
       "      <td>NaN</td>\n",
       "      <td>77.124337</td>\n",
       "      <td>NaN</td>\n",
       "      <td>1026.4</td>\n",
       "      <td>NaN</td>\n",
       "      <td>4.27812</td>\n",
       "      <td>2.5</td>\n",
       "      <td>NaN</td>\n",
       "      <td>0</td>\n",
       "      <td>NaN</td>\n",
       "    </tr>\n",
       "    <tr>\n",
       "      <th>1384</th>\n",
       "      <td>NaN</td>\n",
       "      <td>Albury</td>\n",
       "      <td>1.5</td>\n",
       "      <td>NaN</td>\n",
       "      <td>5.69496</td>\n",
       "      <td>NaN</td>\n",
       "      <td>NNE</td>\n",
       "      <td>NaN</td>\n",
       "      <td>NaN</td>\n",
       "      <td>NaN</td>\n",
       "      <td>...</td>\n",
       "      <td>65.505356</td>\n",
       "      <td>78.846179</td>\n",
       "      <td>NaN</td>\n",
       "      <td>1025.1</td>\n",
       "      <td>7.000000</td>\n",
       "      <td>NaN</td>\n",
       "      <td>NaN</td>\n",
       "      <td>12.6</td>\n",
       "      <td>0</td>\n",
       "      <td>NaN</td>\n",
       "    </tr>\n",
       "    <tr>\n",
       "      <th>2529</th>\n",
       "      <td>NaN</td>\n",
       "      <td>NaN</td>\n",
       "      <td>19.2</td>\n",
       "      <td>NaN</td>\n",
       "      <td>NaN</td>\n",
       "      <td>NaN</td>\n",
       "      <td>N</td>\n",
       "      <td>17.00000</td>\n",
       "      <td>N</td>\n",
       "      <td>NaN</td>\n",
       "      <td>...</td>\n",
       "      <td>NaN</td>\n",
       "      <td>61.525581</td>\n",
       "      <td>1020.7</td>\n",
       "      <td>1018.2</td>\n",
       "      <td>4.167266</td>\n",
       "      <td>NaN</td>\n",
       "      <td>NaN</td>\n",
       "      <td>25.5</td>\n",
       "      <td>0</td>\n",
       "      <td>0.0</td>\n",
       "    </tr>\n",
       "    <tr>\n",
       "      <th>...</th>\n",
       "      <td>...</td>\n",
       "      <td>...</td>\n",
       "      <td>...</td>\n",
       "      <td>...</td>\n",
       "      <td>...</td>\n",
       "      <td>...</td>\n",
       "      <td>...</td>\n",
       "      <td>...</td>\n",
       "      <td>...</td>\n",
       "      <td>...</td>\n",
       "      <td>...</td>\n",
       "      <td>...</td>\n",
       "      <td>...</td>\n",
       "      <td>...</td>\n",
       "      <td>...</td>\n",
       "      <td>...</td>\n",
       "      <td>...</td>\n",
       "      <td>...</td>\n",
       "      <td>...</td>\n",
       "      <td>...</td>\n",
       "      <td>...</td>\n",
       "    </tr>\n",
       "    <tr>\n",
       "      <th>34642</th>\n",
       "      <td>2014/1/26</td>\n",
       "      <td>Mildura</td>\n",
       "      <td>NaN</td>\n",
       "      <td>NaN</td>\n",
       "      <td>NaN</td>\n",
       "      <td>9.100000</td>\n",
       "      <td>N</td>\n",
       "      <td>NaN</td>\n",
       "      <td>NE</td>\n",
       "      <td>NW</td>\n",
       "      <td>...</td>\n",
       "      <td>44.511107</td>\n",
       "      <td>NaN</td>\n",
       "      <td>1029.7</td>\n",
       "      <td>NaN</td>\n",
       "      <td>0.000000</td>\n",
       "      <td>1.00000</td>\n",
       "      <td>NaN</td>\n",
       "      <td>NaN</td>\n",
       "      <td>0</td>\n",
       "      <td>NaN</td>\n",
       "    </tr>\n",
       "    <tr>\n",
       "      <th>34686</th>\n",
       "      <td>NaN</td>\n",
       "      <td>NaN</td>\n",
       "      <td>NaN</td>\n",
       "      <td>20.5</td>\n",
       "      <td>5.40000</td>\n",
       "      <td>3.300000</td>\n",
       "      <td>NaN</td>\n",
       "      <td>NaN</td>\n",
       "      <td>NNW</td>\n",
       "      <td>NaN</td>\n",
       "      <td>...</td>\n",
       "      <td>51.933131</td>\n",
       "      <td>60.315157</td>\n",
       "      <td>1012.8</td>\n",
       "      <td>1011.7</td>\n",
       "      <td>NaN</td>\n",
       "      <td>NaN</td>\n",
       "      <td>15.7</td>\n",
       "      <td>NaN</td>\n",
       "      <td>0</td>\n",
       "      <td>NaN</td>\n",
       "    </tr>\n",
       "    <tr>\n",
       "      <th>34696</th>\n",
       "      <td>NaN</td>\n",
       "      <td>Albany</td>\n",
       "      <td>NaN</td>\n",
       "      <td>30.6</td>\n",
       "      <td>NaN</td>\n",
       "      <td>NaN</td>\n",
       "      <td>NaN</td>\n",
       "      <td>39.38315</td>\n",
       "      <td>NE</td>\n",
       "      <td>SW</td>\n",
       "      <td>...</td>\n",
       "      <td>NaN</td>\n",
       "      <td>50.929527</td>\n",
       "      <td>NaN</td>\n",
       "      <td>NaN</td>\n",
       "      <td>6.000000</td>\n",
       "      <td>5.00000</td>\n",
       "      <td>23.4</td>\n",
       "      <td>NaN</td>\n",
       "      <td>0</td>\n",
       "      <td>2.0</td>\n",
       "    </tr>\n",
       "    <tr>\n",
       "      <th>34792</th>\n",
       "      <td>2013/12/6</td>\n",
       "      <td>NaN</td>\n",
       "      <td>9.4</td>\n",
       "      <td>NaN</td>\n",
       "      <td>1.80000</td>\n",
       "      <td>10.400000</td>\n",
       "      <td>NaN</td>\n",
       "      <td>NaN</td>\n",
       "      <td>NE</td>\n",
       "      <td>SW</td>\n",
       "      <td>...</td>\n",
       "      <td>NaN</td>\n",
       "      <td>NaN</td>\n",
       "      <td>NaN</td>\n",
       "      <td>NaN</td>\n",
       "      <td>1.000000</td>\n",
       "      <td>NaN</td>\n",
       "      <td>14.1</td>\n",
       "      <td>20.5</td>\n",
       "      <td>0</td>\n",
       "      <td>0.0</td>\n",
       "    </tr>\n",
       "    <tr>\n",
       "      <th>34943</th>\n",
       "      <td>2011/3/13</td>\n",
       "      <td>NaN</td>\n",
       "      <td>5.0</td>\n",
       "      <td>25.0</td>\n",
       "      <td>6.40000</td>\n",
       "      <td>NaN</td>\n",
       "      <td>NaN</td>\n",
       "      <td>46.00000</td>\n",
       "      <td>WNW</td>\n",
       "      <td>NaN</td>\n",
       "      <td>...</td>\n",
       "      <td>NaN</td>\n",
       "      <td>NaN</td>\n",
       "      <td>NaN</td>\n",
       "      <td>1010.1</td>\n",
       "      <td>NaN</td>\n",
       "      <td>0.00000</td>\n",
       "      <td>16.6</td>\n",
       "      <td>24.5</td>\n",
       "      <td>0</td>\n",
       "      <td>NaN</td>\n",
       "    </tr>\n",
       "  </tbody>\n",
       "</table>\n",
       "<p>160 rows × 22 columns</p>\n",
       "</div>"
      ],
      "text/plain": [
       "            Date          Loc  TempLow  TempHigh  Steaming        Sun WindDir  \\\n",
       "503     2013/4/3          NaN      NaN       NaN       NaN        NaN     NNW   \n",
       "601    2016/4/20          NaN      NaN      24.7       NaN   7.993227      SE   \n",
       "1068   2010/7/16  Tuggeranong     -3.4       NaN       NaN        NaN     WNW   \n",
       "1384         NaN       Albury      1.5       NaN   5.69496        NaN     NNE   \n",
       "2529         NaN          NaN     19.2       NaN       NaN        NaN       N   \n",
       "...          ...          ...      ...       ...       ...        ...     ...   \n",
       "34642  2014/1/26      Mildura      NaN       NaN       NaN   9.100000       N   \n",
       "34686        NaN          NaN      NaN      20.5   5.40000   3.300000     NaN   \n",
       "34696        NaN       Albany      NaN      30.6       NaN        NaN     NaN   \n",
       "34792  2013/12/6          NaN      9.4       NaN   1.80000  10.400000     NaN   \n",
       "34943  2011/3/13          NaN      5.0      25.0   6.40000        NaN     NaN   \n",
       "\n",
       "       WindSpeed DayWindDir NightWindDir  ...  DayHumidity  NightHumidity  \\\n",
       "503          NaN        ESE          NaN  ...    13.859574      46.383042   \n",
       "601     31.00000        NaN          NaN  ...    47.028172      71.319999   \n",
       "1068    17.00000        NaN          NaN  ...          NaN      77.124337   \n",
       "1384         NaN        NaN          NaN  ...    65.505356      78.846179   \n",
       "2529    17.00000          N          NaN  ...          NaN      61.525581   \n",
       "...          ...        ...          ...  ...          ...            ...   \n",
       "34642        NaN         NE           NW  ...    44.511107            NaN   \n",
       "34686        NaN        NNW          NaN  ...    51.933131      60.315157   \n",
       "34696   39.38315         NE           SW  ...          NaN      50.929527   \n",
       "34792        NaN         NE           SW  ...          NaN            NaN   \n",
       "34943   46.00000        WNW          NaN  ...          NaN            NaN   \n",
       "\n",
       "       DayPressure  NightPressure  DayCloud  NightCloud  DayTemp  NightTemp  \\\n",
       "503            NaN         1001.6  6.000000         NaN     31.5        NaN   \n",
       "601            NaN            NaN       NaN         NaN     13.6       23.3   \n",
       "1068           NaN         1026.4       NaN     4.27812      2.5        NaN   \n",
       "1384           NaN         1025.1  7.000000         NaN      NaN       12.6   \n",
       "2529        1020.7         1018.2  4.167266         NaN      NaN       25.5   \n",
       "...            ...            ...       ...         ...      ...        ...   \n",
       "34642       1029.7            NaN  0.000000     1.00000      NaN        NaN   \n",
       "34686       1012.8         1011.7       NaN         NaN     15.7        NaN   \n",
       "34696          NaN            NaN  6.000000     5.00000     23.4        NaN   \n",
       "34792          NaN            NaN  1.000000         NaN     14.1       20.5   \n",
       "34943          NaN         1010.1       NaN     0.00000     16.6       24.5   \n",
       "\n",
       "       Weather  RISK_MM  \n",
       "503          0      0.0  \n",
       "601          0      0.0  \n",
       "1068         0      NaN  \n",
       "1384         0      NaN  \n",
       "2529         0      0.0  \n",
       "...        ...      ...  \n",
       "34642        0      NaN  \n",
       "34686        0      NaN  \n",
       "34696        0      2.0  \n",
       "34792        0      0.0  \n",
       "34943        0      NaN  \n",
       "\n",
       "[160 rows x 22 columns]"
      ]
     },
     "execution_count": 351,
     "metadata": {},
     "output_type": "execute_result"
    }
   ],
   "source": [
    "train_df[((train_df.isnull().sum(axis=1)>=10) & (train_df['Weather']==0))]"
   ]
  },
  {
   "cell_type": "code",
   "execution_count": 328,
   "metadata": {},
   "outputs": [],
   "source": [
    "train_end_id = len(train_df_drop_some)\n",
    "df = pd.concat([train_df_drop_some, df_test ], sort=False, ignore_index=True)"
   ]
  },
  {
   "cell_type": "markdown",
   "metadata": {},
   "source": [
    "### Dir Maerge"
   ]
  },
  {
   "cell_type": "code",
   "execution_count": 359,
   "metadata": {},
   "outputs": [],
   "source": [
    "train_end_id = len(train_df)\n",
    "df = pd.concat([train_df, df_test ], sort=False, ignore_index=True)"
   ]
  },
  {
   "cell_type": "code",
   "execution_count": 10,
   "metadata": {},
   "outputs": [
    {
     "name": "stdout",
     "output_type": "stream",
     "text": [
      "latitude is : -35.0247822 \n",
      "longtitude is: 117.883608\n"
     ]
    }
   ],
   "source": [
    "from geopy.geocoders import Nominatim\n",
    "geolocator = Nominatim(user_agent=\"my_user_agent\")\n",
    "loc = geolocator.geocode(\"Albany\",country_codes='au')\n",
    "print(\"latitude is :\" ,loc.latitude,\"\\nlongtitude is:\" ,loc.longitude)"
   ]
  },
  {
   "cell_type": "code",
   "execution_count": 287,
   "metadata": {},
   "outputs": [],
   "source": [
    "list_lat={}\n",
    "list_long={}"
   ]
  },
  {
   "cell_type": "code",
   "execution_count": 288,
   "metadata": {},
   "outputs": [],
   "source": [
    "geolocator = Nominatim(user_agent=\"my_user_agent\")"
   ]
  },
  {
   "cell_type": "code",
   "execution_count": 289,
   "metadata": {},
   "outputs": [],
   "source": [
    "loc_ar=df['Loc'].astype(\"category\").cat.categories"
   ]
  },
  {
   "cell_type": "code",
   "execution_count": 293,
   "metadata": {},
   "outputs": [],
   "source": [
    "count=0\n",
    "for loc in loc_ar:\n",
    "    #print(loc)\n",
    "    loc_tmp = geolocator.geocode(loc,country_codes='au')\n",
    "    if(loc_tmp is None):\n",
    "        #print(loc,\" is a special case\")\n",
    "        count=count+1\n",
    "    else:\n",
    "        #print(loc,\" : \",\"latitude is :\" ,loc_tmp.latitude,\" | longtitude is:\" ,loc_tmp.longitude)\n",
    "        list_lat[loc]=loc_tmp.latitude\n",
    "        list_long[loc]=loc_tmp.longitude"
   ]
  },
  {
   "cell_type": "markdown",
   "metadata": {},
   "source": [
    "###### Other special cases"
   ]
  },
  {
   "cell_type": "code",
   "execution_count": 16,
   "metadata": {},
   "outputs": [],
   "source": [
    "#AliceSprings\n",
    "#-23.69476765166359, 133.88013476606403\n",
    "\n",
    "list_lat['AliceSprings']=-23.69476765166359\n",
    "list_long['AliceSprings']=133.88013476606403\n",
    "\n",
    "#BadgerysCreek\n",
    "#-33.88144769375396, 150.74157022910964\n",
    "#-33.869832171766625, 150.70766710949107\n",
    "#-33.89420156821954, 150.78457140108156\n",
    "\n",
    "list_lat['BadgerysCreek']=-33.88144769375396\n",
    "list_long['BadgerysCreek']=150.74157022910964\n",
    "\n",
    "#CoffsHarbour\n",
    "#-30.29354061803095, 153.1106557701742\n",
    "#-30.301026631528106, 153.1086029124331\n",
    "\n",
    "list_lat['CoffsHarbour']=-30.2935406180309\n",
    "list_long['CoffsHarbour']=153.1106557701742\n",
    "\n",
    "#GoldCoast\n",
    "#-28.00448090555341, 153.40094017442507\n",
    "\n",
    "list_lat['GoldCoast']=-28.00448090555341\n",
    "list_long['GoldCoast']=153.40094017442507\n",
    "\n",
    "#MelbourneAirport\n",
    "#-37.66913966648534, 144.84103802722368\n",
    "\n",
    "list_lat['MelbourneAirport']=-37.66913966648534\n",
    "list_long['MelbourneAirport']=144.84103802722368\n",
    "\n",
    "#MountGambier\n",
    "#-37.830252930715886, 140.78030083281405\n",
    "\n",
    "list_lat['MountGambier']=-37.83025293071588\n",
    "list_long['MountGambier']=140.78030083281405\n",
    "\n",
    "#MountGinini\n",
    "#-35.528580398584126, 148.77210691383866\n",
    "\n",
    "list_lat['MountGinini']=-35.528580398584126\n",
    "list_long['MountGinini']=148.77210691383866\n",
    "\n",
    "#NorahHead\n",
    "#-33.28303332733658, 151.56692459655088\n",
    "\n",
    "list_lat['NorahHead']=-33.28303332733658\n",
    "list_long['NorahHead']=151.56692459655088\n",
    "\n",
    "#NorfolkIsland\n",
    "#-29.036987095556874, 167.9544349216241\n",
    "\n",
    "list_lat['NorfolkIsland']=-29.036987095556874\n",
    "list_long['NorfolkIsland']=167.9544349216241\n",
    "\n",
    "#PearceRAAF\n",
    "#-31.66006327584827, 116.01528573154377\n",
    "\n",
    "list_lat['PearceRAAF']=-31.66006327584827\n",
    "list_long['PearceRAAF']=116.01528573154377\n",
    "\n",
    "#PerthAirport\n",
    "#-31.938538476567896, 115.96728138476293\n",
    "\n",
    "list_lat['PerthAirport']=-31.938538476567896\n",
    "list_long['PerthAirport']=115.96728138476293\n",
    "\n",
    "#SalmonGums\n",
    "#-32.952071797927424, 121.63797105529618\n",
    "\n",
    "list_lat['SalmonGums']=-32.952071797927424\n",
    "list_long['SalmonGums']=121.63797105529618\n",
    "\n",
    "#SydneyAirport\n",
    "#-33.93961124877781, 151.17491161789997\n",
    "\n",
    "list_lat['SydneyAirport']=-33.93961124877781\n",
    "list_long['SydneyAirport']=151.17491161789997\n",
    "\n",
    "#WaggaWagga\n",
    "#-35.105081396170945, 147.36008824673422\n",
    "\n",
    "list_lat['WaggaWagga']=-35.105081396170945\n",
    "list_long['WaggaWagga']=147.36008824673422"
   ]
  },
  {
   "cell_type": "code",
   "execution_count": 383,
   "metadata": {
    "collapsed": true,
    "jupyter": {
     "outputs_hidden": true
    }
   },
   "outputs": [
    {
     "data": {
      "text/plain": [
       "{'Adelaide': -34.9281805,\n",
       " 'Albany': -35.0247822,\n",
       " 'Albury': -36.0804766,\n",
       " 'Ballarat': -37.5622632,\n",
       " 'Bendigo': -36.7588767,\n",
       " 'Brisbane': -27.4689682,\n",
       " 'Cairns': -16.9206657,\n",
       " 'Canberra': -35.2975906,\n",
       " 'Cobar': -31.4983333,\n",
       " 'Dartmoor': -37.9225444,\n",
       " 'Darwin': -12.46044,\n",
       " 'Hobart': -42.8825088,\n",
       " 'Katherine': -14.4642313,\n",
       " 'Launceston': -41.4340813,\n",
       " 'Melbourne': -37.8142176,\n",
       " 'Mildura': -34.1847265,\n",
       " 'Moree': -29.4617202,\n",
       " 'Newcastle': -32.9192953,\n",
       " 'Nhil': -35.4325283,\n",
       " 'Nuriootpa': -34.4693354,\n",
       " 'Penrith': -33.7510792,\n",
       " 'Perth': -31.9527121,\n",
       " 'Portland': -38.3456231,\n",
       " 'Richmond': -20.569655,\n",
       " 'Sale': -38.1050358,\n",
       " 'Sydney': -33.8548157,\n",
       " 'Townsville': -19.2569391,\n",
       " 'Tuggeranong': -35.4209771,\n",
       " 'Uluru': -25.3455545,\n",
       " 'Walpole': -34.9776796,\n",
       " 'Watsonia': -37.7110022,\n",
       " 'Williamtown': -32.815,\n",
       " 'Witchcliffe': -34.0263348,\n",
       " 'Wollongong': -34.4243941,\n",
       " 'Woomera': -31.1999142}"
      ]
     },
     "execution_count": 383,
     "metadata": {},
     "output_type": "execute_result"
    }
   ],
   "source": [
    "list_lat"
   ]
  },
  {
   "cell_type": "code",
   "execution_count": 385,
   "metadata": {
    "collapsed": true,
    "jupyter": {
     "outputs_hidden": true
    }
   },
   "outputs": [
    {
     "data": {
      "text/plain": [
       "{'Adelaide': 138.5999312,\n",
       " 'Albany': 117.883608,\n",
       " 'Albury': 146.9162795,\n",
       " 'Ballarat': 143.8607215,\n",
       " 'Bendigo': 144.2825931,\n",
       " 'Brisbane': 153.0234991,\n",
       " 'Cairns': 145.7721854,\n",
       " 'Canberra': 149.1012676,\n",
       " 'Cobar': 145.8344444,\n",
       " 'Dartmoor': 141.2766551,\n",
       " 'Darwin': 130.8410469,\n",
       " 'Hobart': 147.3281233,\n",
       " 'Katherine': 132.2638568,\n",
       " 'Launceston': 147.1373496,\n",
       " 'Melbourne': 144.9631608,\n",
       " 'Mildura': 142.1624972,\n",
       " 'Moree': 149.8407153,\n",
       " 'Newcastle': 151.7795348,\n",
       " 'Nhil': 141.2833187,\n",
       " 'Nuriootpa': 138.9939006,\n",
       " 'Penrith': 150.6941684,\n",
       " 'Perth': 115.8604796,\n",
       " 'Portland': 141.6042304,\n",
       " 'Richmond': 142.9283602143393,\n",
       " 'Sale': 147.0647902,\n",
       " 'Sydney': 151.2164539,\n",
       " 'Townsville': 146.8239537,\n",
       " 'Tuggeranong': 149.0921341,\n",
       " 'Uluru': 131.03696147470208,\n",
       " 'Walpole': 116.7310063,\n",
       " 'Watsonia': 145.083635,\n",
       " 'Williamtown': 151.8427778,\n",
       " 'Witchcliffe': 115.1004768,\n",
       " 'Wollongong': 150.89385,\n",
       " 'Woomera': 136.8253532}"
      ]
     },
     "execution_count": 385,
     "metadata": {},
     "output_type": "execute_result"
    }
   ],
   "source": [
    "list_long"
   ]
  },
  {
   "cell_type": "code",
   "execution_count": 381,
   "metadata": {},
   "outputs": [],
   "source": [
    "np.save('list_lat.npy', list_lat) \n",
    "np.save('list_long.npy', list_long) "
   ]
  },
  {
   "cell_type": "code",
   "execution_count": 382,
   "metadata": {},
   "outputs": [],
   "source": [
    "list_lat = np.load('list_lat.npy',allow_pickle='TRUE').item()"
   ]
  },
  {
   "cell_type": "code",
   "execution_count": 384,
   "metadata": {},
   "outputs": [],
   "source": [
    "list_long = np.load('list_long.npy',allow_pickle='TRUE').item()"
   ]
  },
  {
   "cell_type": "code",
   "execution_count": 361,
   "metadata": {},
   "outputs": [],
   "source": [
    "df['loc_lat']=df['Loc'].map(list_lat)\n",
    "df['loc_long']=df['Loc'].map(list_long)"
   ]
  },
  {
   "cell_type": "code",
   "execution_count": 360,
   "metadata": {},
   "outputs": [
    {
     "data": {
      "text/html": [
       "<div>\n",
       "<style scoped>\n",
       "    .dataframe tbody tr th:only-of-type {\n",
       "        vertical-align: middle;\n",
       "    }\n",
       "\n",
       "    .dataframe tbody tr th {\n",
       "        vertical-align: top;\n",
       "    }\n",
       "\n",
       "    .dataframe thead th {\n",
       "        text-align: right;\n",
       "    }\n",
       "</style>\n",
       "<table border=\"1\" class=\"dataframe\">\n",
       "  <thead>\n",
       "    <tr style=\"text-align: right;\">\n",
       "      <th></th>\n",
       "      <th>Date</th>\n",
       "      <th>Loc</th>\n",
       "      <th>TempLow</th>\n",
       "      <th>TempHigh</th>\n",
       "      <th>Steaming</th>\n",
       "      <th>Sun</th>\n",
       "      <th>WindDir</th>\n",
       "      <th>WindSpeed</th>\n",
       "      <th>DayWindDir</th>\n",
       "      <th>NightWindDir</th>\n",
       "      <th>...</th>\n",
       "      <th>DayHumidity</th>\n",
       "      <th>NightHumidity</th>\n",
       "      <th>DayPressure</th>\n",
       "      <th>NightPressure</th>\n",
       "      <th>DayCloud</th>\n",
       "      <th>NightCloud</th>\n",
       "      <th>DayTemp</th>\n",
       "      <th>NightTemp</th>\n",
       "      <th>Weather</th>\n",
       "      <th>RISK_MM</th>\n",
       "    </tr>\n",
       "  </thead>\n",
       "  <tbody>\n",
       "    <tr>\n",
       "      <th>0</th>\n",
       "      <td>2016/7/19</td>\n",
       "      <td>NaN</td>\n",
       "      <td>19.5</td>\n",
       "      <td>NaN</td>\n",
       "      <td>5.69496</td>\n",
       "      <td>0.500000</td>\n",
       "      <td>ENE</td>\n",
       "      <td>61.0</td>\n",
       "      <td>ENE</td>\n",
       "      <td>ENE</td>\n",
       "      <td>...</td>\n",
       "      <td>86.641375</td>\n",
       "      <td>41.810006</td>\n",
       "      <td>1020.4</td>\n",
       "      <td>1021.9</td>\n",
       "      <td>NaN</td>\n",
       "      <td>7.00000</td>\n",
       "      <td>NaN</td>\n",
       "      <td>19.6</td>\n",
       "      <td>0.0</td>\n",
       "      <td>NaN</td>\n",
       "    </tr>\n",
       "    <tr>\n",
       "      <th>1</th>\n",
       "      <td>2010/7/26</td>\n",
       "      <td>Canberra</td>\n",
       "      <td>2.1</td>\n",
       "      <td>15.7</td>\n",
       "      <td>NaN</td>\n",
       "      <td>5.700000</td>\n",
       "      <td>E</td>\n",
       "      <td>26.0</td>\n",
       "      <td>NaN</td>\n",
       "      <td>SE</td>\n",
       "      <td>...</td>\n",
       "      <td>53.275715</td>\n",
       "      <td>76.598048</td>\n",
       "      <td>1023.7</td>\n",
       "      <td>1020.8</td>\n",
       "      <td>4.000000</td>\n",
       "      <td>1.00000</td>\n",
       "      <td>9.0</td>\n",
       "      <td>14.1</td>\n",
       "      <td>0.0</td>\n",
       "      <td>0.0</td>\n",
       "    </tr>\n",
       "    <tr>\n",
       "      <th>2</th>\n",
       "      <td>2014/4/2</td>\n",
       "      <td>Woomera</td>\n",
       "      <td>20.9</td>\n",
       "      <td>36.1</td>\n",
       "      <td>5.69496</td>\n",
       "      <td>NaN</td>\n",
       "      <td>S</td>\n",
       "      <td>39.0</td>\n",
       "      <td>S</td>\n",
       "      <td>SW</td>\n",
       "      <td>...</td>\n",
       "      <td>15.471574</td>\n",
       "      <td>52.163254</td>\n",
       "      <td>1017.1</td>\n",
       "      <td>1014.9</td>\n",
       "      <td>4.167266</td>\n",
       "      <td>4.27812</td>\n",
       "      <td>24.2</td>\n",
       "      <td>33.9</td>\n",
       "      <td>0.0</td>\n",
       "      <td>0.0</td>\n",
       "    </tr>\n",
       "    <tr>\n",
       "      <th>3</th>\n",
       "      <td>2014/11/19</td>\n",
       "      <td>Tuggeranong</td>\n",
       "      <td>11.5</td>\n",
       "      <td>23.9</td>\n",
       "      <td>5.69496</td>\n",
       "      <td>7.993227</td>\n",
       "      <td>NNE</td>\n",
       "      <td>35.0</td>\n",
       "      <td>W</td>\n",
       "      <td>NaN</td>\n",
       "      <td>...</td>\n",
       "      <td>46.442398</td>\n",
       "      <td>67.664733</td>\n",
       "      <td>1010.2</td>\n",
       "      <td>NaN</td>\n",
       "      <td>4.167266</td>\n",
       "      <td>4.27812</td>\n",
       "      <td>13.8</td>\n",
       "      <td>21.8</td>\n",
       "      <td>1.0</td>\n",
       "      <td>0.2</td>\n",
       "    </tr>\n",
       "    <tr>\n",
       "      <th>4</th>\n",
       "      <td>NaN</td>\n",
       "      <td>Hobart</td>\n",
       "      <td>8.2</td>\n",
       "      <td>20.5</td>\n",
       "      <td>3.20000</td>\n",
       "      <td>NaN</td>\n",
       "      <td>N</td>\n",
       "      <td>69.0</td>\n",
       "      <td>N</td>\n",
       "      <td>WNW</td>\n",
       "      <td>...</td>\n",
       "      <td>51.830889</td>\n",
       "      <td>51.770240</td>\n",
       "      <td>NaN</td>\n",
       "      <td>1001.2</td>\n",
       "      <td>7.000000</td>\n",
       "      <td>7.00000</td>\n",
       "      <td>NaN</td>\n",
       "      <td>17.6</td>\n",
       "      <td>0.0</td>\n",
       "      <td>0.6</td>\n",
       "    </tr>\n",
       "    <tr>\n",
       "      <th>...</th>\n",
       "      <td>...</td>\n",
       "      <td>...</td>\n",
       "      <td>...</td>\n",
       "      <td>...</td>\n",
       "      <td>...</td>\n",
       "      <td>...</td>\n",
       "      <td>...</td>\n",
       "      <td>...</td>\n",
       "      <td>...</td>\n",
       "      <td>...</td>\n",
       "      <td>...</td>\n",
       "      <td>...</td>\n",
       "      <td>...</td>\n",
       "      <td>...</td>\n",
       "      <td>...</td>\n",
       "      <td>...</td>\n",
       "      <td>...</td>\n",
       "      <td>...</td>\n",
       "      <td>...</td>\n",
       "      <td>...</td>\n",
       "      <td>...</td>\n",
       "    </tr>\n",
       "    <tr>\n",
       "      <th>69995</th>\n",
       "      <td>2011/12/27</td>\n",
       "      <td>NaN</td>\n",
       "      <td>9.6</td>\n",
       "      <td>21.5</td>\n",
       "      <td>8.00000</td>\n",
       "      <td>12.000000</td>\n",
       "      <td>SSW</td>\n",
       "      <td>31.0</td>\n",
       "      <td>ESE</td>\n",
       "      <td>SE</td>\n",
       "      <td>...</td>\n",
       "      <td>39.878487</td>\n",
       "      <td>57.490952</td>\n",
       "      <td>1024.5</td>\n",
       "      <td>1022.8</td>\n",
       "      <td>0.000000</td>\n",
       "      <td>6.00000</td>\n",
       "      <td>14.3</td>\n",
       "      <td>19.0</td>\n",
       "      <td>0.0</td>\n",
       "      <td>0.0</td>\n",
       "    </tr>\n",
       "    <tr>\n",
       "      <th>69996</th>\n",
       "      <td>NaN</td>\n",
       "      <td>Canberra</td>\n",
       "      <td>11.6</td>\n",
       "      <td>31.4</td>\n",
       "      <td>5.69496</td>\n",
       "      <td>7.993227</td>\n",
       "      <td>NNE</td>\n",
       "      <td>39.0</td>\n",
       "      <td>NaN</td>\n",
       "      <td>SE</td>\n",
       "      <td>...</td>\n",
       "      <td>NaN</td>\n",
       "      <td>70.743790</td>\n",
       "      <td>1019.1</td>\n",
       "      <td>1016.3</td>\n",
       "      <td>4.167266</td>\n",
       "      <td>4.27812</td>\n",
       "      <td>19.3</td>\n",
       "      <td>NaN</td>\n",
       "      <td>0.0</td>\n",
       "      <td>0.0</td>\n",
       "    </tr>\n",
       "    <tr>\n",
       "      <th>69997</th>\n",
       "      <td>2011/1/22</td>\n",
       "      <td>Moree</td>\n",
       "      <td>22.2</td>\n",
       "      <td>34.5</td>\n",
       "      <td>NaN</td>\n",
       "      <td>7.600000</td>\n",
       "      <td>NNE</td>\n",
       "      <td>39.0</td>\n",
       "      <td>NNE</td>\n",
       "      <td>N</td>\n",
       "      <td>...</td>\n",
       "      <td>30.743840</td>\n",
       "      <td>64.412890</td>\n",
       "      <td>NaN</td>\n",
       "      <td>1008.5</td>\n",
       "      <td>7.000000</td>\n",
       "      <td>7.00000</td>\n",
       "      <td>25.2</td>\n",
       "      <td>NaN</td>\n",
       "      <td>0.0</td>\n",
       "      <td>0.0</td>\n",
       "    </tr>\n",
       "    <tr>\n",
       "      <th>69998</th>\n",
       "      <td>2010/10/2</td>\n",
       "      <td>Mildura</td>\n",
       "      <td>16.4</td>\n",
       "      <td>43.5</td>\n",
       "      <td>7.00000</td>\n",
       "      <td>12.700000</td>\n",
       "      <td>ENE</td>\n",
       "      <td>43.0</td>\n",
       "      <td>NaN</td>\n",
       "      <td>NaN</td>\n",
       "      <td>...</td>\n",
       "      <td>28.084916</td>\n",
       "      <td>63.565166</td>\n",
       "      <td>1014.2</td>\n",
       "      <td>1010.5</td>\n",
       "      <td>0.000000</td>\n",
       "      <td>4.27812</td>\n",
       "      <td>28.9</td>\n",
       "      <td>NaN</td>\n",
       "      <td>0.0</td>\n",
       "      <td>NaN</td>\n",
       "    </tr>\n",
       "    <tr>\n",
       "      <th>69999</th>\n",
       "      <td>2009/1/16</td>\n",
       "      <td>Williamtown</td>\n",
       "      <td>6.9</td>\n",
       "      <td>NaN</td>\n",
       "      <td>6.60000</td>\n",
       "      <td>10.600000</td>\n",
       "      <td>NE</td>\n",
       "      <td>NaN</td>\n",
       "      <td>NaN</td>\n",
       "      <td>NNE</td>\n",
       "      <td>...</td>\n",
       "      <td>30.948435</td>\n",
       "      <td>56.550825</td>\n",
       "      <td>1017.8</td>\n",
       "      <td>1011.8</td>\n",
       "      <td>NaN</td>\n",
       "      <td>4.27812</td>\n",
       "      <td>19.4</td>\n",
       "      <td>NaN</td>\n",
       "      <td>0.0</td>\n",
       "      <td>0.0</td>\n",
       "    </tr>\n",
       "  </tbody>\n",
       "</table>\n",
       "<p>70000 rows × 22 columns</p>\n",
       "</div>"
      ],
      "text/plain": [
       "             Date          Loc  TempLow  TempHigh  Steaming        Sun  \\\n",
       "0       2016/7/19          NaN     19.5       NaN   5.69496   0.500000   \n",
       "1       2010/7/26     Canberra      2.1      15.7       NaN   5.700000   \n",
       "2        2014/4/2      Woomera     20.9      36.1   5.69496        NaN   \n",
       "3      2014/11/19  Tuggeranong     11.5      23.9   5.69496   7.993227   \n",
       "4             NaN       Hobart      8.2      20.5   3.20000        NaN   \n",
       "...           ...          ...      ...       ...       ...        ...   \n",
       "69995  2011/12/27          NaN      9.6      21.5   8.00000  12.000000   \n",
       "69996         NaN     Canberra     11.6      31.4   5.69496   7.993227   \n",
       "69997   2011/1/22        Moree     22.2      34.5       NaN   7.600000   \n",
       "69998   2010/10/2      Mildura     16.4      43.5   7.00000  12.700000   \n",
       "69999   2009/1/16  Williamtown      6.9       NaN   6.60000  10.600000   \n",
       "\n",
       "      WindDir  WindSpeed DayWindDir NightWindDir  ...  DayHumidity  \\\n",
       "0         ENE       61.0        ENE          ENE  ...    86.641375   \n",
       "1           E       26.0        NaN           SE  ...    53.275715   \n",
       "2           S       39.0          S           SW  ...    15.471574   \n",
       "3         NNE       35.0          W          NaN  ...    46.442398   \n",
       "4           N       69.0          N          WNW  ...    51.830889   \n",
       "...       ...        ...        ...          ...  ...          ...   \n",
       "69995     SSW       31.0        ESE           SE  ...    39.878487   \n",
       "69996     NNE       39.0        NaN           SE  ...          NaN   \n",
       "69997     NNE       39.0        NNE            N  ...    30.743840   \n",
       "69998     ENE       43.0        NaN          NaN  ...    28.084916   \n",
       "69999      NE        NaN        NaN          NNE  ...    30.948435   \n",
       "\n",
       "       NightHumidity  DayPressure  NightPressure  DayCloud  NightCloud  \\\n",
       "0          41.810006       1020.4         1021.9       NaN     7.00000   \n",
       "1          76.598048       1023.7         1020.8  4.000000     1.00000   \n",
       "2          52.163254       1017.1         1014.9  4.167266     4.27812   \n",
       "3          67.664733       1010.2            NaN  4.167266     4.27812   \n",
       "4          51.770240          NaN         1001.2  7.000000     7.00000   \n",
       "...              ...          ...            ...       ...         ...   \n",
       "69995      57.490952       1024.5         1022.8  0.000000     6.00000   \n",
       "69996      70.743790       1019.1         1016.3  4.167266     4.27812   \n",
       "69997      64.412890          NaN         1008.5  7.000000     7.00000   \n",
       "69998      63.565166       1014.2         1010.5  0.000000     4.27812   \n",
       "69999      56.550825       1017.8         1011.8       NaN     4.27812   \n",
       "\n",
       "       DayTemp  NightTemp  Weather  RISK_MM  \n",
       "0          NaN       19.6      0.0      NaN  \n",
       "1          9.0       14.1      0.0      0.0  \n",
       "2         24.2       33.9      0.0      0.0  \n",
       "3         13.8       21.8      1.0      0.2  \n",
       "4          NaN       17.6      0.0      0.6  \n",
       "...        ...        ...      ...      ...  \n",
       "69995     14.3       19.0      0.0      0.0  \n",
       "69996     19.3        NaN      0.0      0.0  \n",
       "69997     25.2        NaN      0.0      0.0  \n",
       "69998     28.9        NaN      0.0      NaN  \n",
       "69999     19.4        NaN      0.0      0.0  \n",
       "\n",
       "[70000 rows x 22 columns]"
      ]
     },
     "execution_count": 360,
     "metadata": {},
     "output_type": "execute_result"
    }
   ],
   "source": [
    "df"
   ]
  },
  {
   "cell_type": "code",
   "execution_count": 362,
   "metadata": {},
   "outputs": [],
   "source": [
    "df_loc=df.copy()"
   ]
  },
  {
   "cell_type": "code",
   "execution_count": 363,
   "metadata": {},
   "outputs": [],
   "source": [
    "df_loc['Date']=df_loc['Date'].fillna(\"0\")"
   ]
  },
  {
   "cell_type": "code",
   "execution_count": 364,
   "metadata": {},
   "outputs": [],
   "source": [
    "def replace_string(x):\n",
    "    if(x!=\"0\"):\n",
    "        tmp=x.split(\"/\")\n",
    "        #print(tmp)\n",
    "        rx=int(tmp[0])*10000+int(tmp[1])*100+int(tmp[2])\n",
    "        return rx\n",
    "    else:\n",
    "        return int(x)"
   ]
  },
  {
   "cell_type": "code",
   "execution_count": 365,
   "metadata": {},
   "outputs": [],
   "source": [
    "df_loc['Date']=df_loc['Date'].apply(lambda x: replace_string(x))"
   ]
  },
  {
   "cell_type": "code",
   "execution_count": 366,
   "metadata": {},
   "outputs": [],
   "source": [
    "df_loc['Date']=df_loc['Date'].replace(0,np.nan)"
   ]
  },
  {
   "cell_type": "code",
   "execution_count": 354,
   "metadata": {},
   "outputs": [
    {
     "data": {
      "text/html": [
       "<div>\n",
       "<style scoped>\n",
       "    .dataframe tbody tr th:only-of-type {\n",
       "        vertical-align: middle;\n",
       "    }\n",
       "\n",
       "    .dataframe tbody tr th {\n",
       "        vertical-align: top;\n",
       "    }\n",
       "\n",
       "    .dataframe thead th {\n",
       "        text-align: right;\n",
       "    }\n",
       "</style>\n",
       "<table border=\"1\" class=\"dataframe\">\n",
       "  <thead>\n",
       "    <tr style=\"text-align: right;\">\n",
       "      <th></th>\n",
       "      <th>Date</th>\n",
       "      <th>Loc</th>\n",
       "      <th>TempLow</th>\n",
       "      <th>TempHigh</th>\n",
       "      <th>Steaming</th>\n",
       "      <th>Sun</th>\n",
       "      <th>WindDir</th>\n",
       "      <th>WindSpeed</th>\n",
       "      <th>DayWindDir</th>\n",
       "      <th>NightWindDir</th>\n",
       "      <th>...</th>\n",
       "      <th>DayPressure</th>\n",
       "      <th>NightPressure</th>\n",
       "      <th>DayCloud</th>\n",
       "      <th>NightCloud</th>\n",
       "      <th>DayTemp</th>\n",
       "      <th>NightTemp</th>\n",
       "      <th>Weather</th>\n",
       "      <th>RISK_MM</th>\n",
       "      <th>loc_lat</th>\n",
       "      <th>loc_long</th>\n",
       "    </tr>\n",
       "  </thead>\n",
       "  <tbody>\n",
       "    <tr>\n",
       "      <th>503</th>\n",
       "      <td>20111112.0</td>\n",
       "      <td>AliceSprings</td>\n",
       "      <td>NaN</td>\n",
       "      <td>32.2</td>\n",
       "      <td>10.2</td>\n",
       "      <td>NaN</td>\n",
       "      <td>NaN</td>\n",
       "      <td>46.0</td>\n",
       "      <td>ENE</td>\n",
       "      <td>N</td>\n",
       "      <td>...</td>\n",
       "      <td>1016.7</td>\n",
       "      <td>1011.5</td>\n",
       "      <td>1.0</td>\n",
       "      <td>NaN</td>\n",
       "      <td>26.2</td>\n",
       "      <td>NaN</td>\n",
       "      <td>0.0</td>\n",
       "      <td>0.0</td>\n",
       "      <td>NaN</td>\n",
       "      <td>NaN</td>\n",
       "    </tr>\n",
       "  </tbody>\n",
       "</table>\n",
       "<p>1 rows × 24 columns</p>\n",
       "</div>"
      ],
      "text/plain": [
       "           Date           Loc  TempLow  TempHigh  Steaming  Sun WindDir  \\\n",
       "503  20111112.0  AliceSprings      NaN      32.2      10.2  NaN     NaN   \n",
       "\n",
       "     WindSpeed DayWindDir NightWindDir  ...  DayPressure  NightPressure  \\\n",
       "503       46.0        ENE            N  ...       1016.7         1011.5   \n",
       "\n",
       "     DayCloud  NightCloud  DayTemp  NightTemp  Weather  RISK_MM  loc_lat  \\\n",
       "503       1.0         NaN     26.2        NaN      0.0      0.0      NaN   \n",
       "\n",
       "     loc_long  \n",
       "503       NaN  \n",
       "\n",
       "[1 rows x 24 columns]"
      ]
     },
     "execution_count": 354,
     "metadata": {},
     "output_type": "execute_result"
    }
   ],
   "source": [
    "df_loc.loc[[503],:]"
   ]
  },
  {
   "cell_type": "markdown",
   "metadata": {},
   "source": [
    "##### Test"
   ]
  },
  {
   "cell_type": "code",
   "execution_count": 28,
   "metadata": {},
   "outputs": [],
   "source": [
    "#from sklearn.preprocessing import LabelEncoder\n",
    "#labelencoder = LabelEncoder()\n",
    "#Date_li=np.zeros(len(df))\n",
    "\n",
    "#df['Date']=df['Date'].apply(lambda x: float(x.replace(\"/\",\"\")))\n",
    "\n",
    "#df = df.drop(columns = ['Loc','DayWindDir','NightWindDir'])\n",
    "#df = df.drop(columns = ['Loc'])\n",
    "#df['Loc'] = df['Loc'].astype(str)\n",
    "#df['WindDir']= df['WindDir'].astype(str)\n",
    "#df['DayWindDir'] = df['DayWindDir'].astype(str)\n",
    "#df['NightWindDir'] = df['NightWindDir'].astype(str)\n",
    "\n",
    "#df['Loc'] = labelencoder.fit_transform(df['Loc'])\n",
    "#df['WindDir'] = labelencoder.fit_transform(df['WindDir'])\n",
    "#df['DayWindDir'] = labelencoder.fit_transform(df['DayWindDir'])\n",
    "#df['NightWindDir'] = labelencoder.fit_transform(df['NightWindDir'])"
   ]
  },
  {
   "cell_type": "code",
   "execution_count": 302,
   "metadata": {},
   "outputs": [
    {
     "data": {
      "text/plain": [
       "Date              float64\n",
       "Loc                object\n",
       "TempLow           float64\n",
       "TempHigh          float64\n",
       "Steaming          float64\n",
       "Sun               float64\n",
       "WindDir            object\n",
       "WindSpeed         float64\n",
       "DayWindDir         object\n",
       "NightWindDir       object\n",
       "DayWindSpeed      float64\n",
       "NightWindSpeed    float64\n",
       "DayHumidity       float64\n",
       "NightHumidity     float64\n",
       "DayPressure       float64\n",
       "NightPressure     float64\n",
       "DayCloud          float64\n",
       "NightCloud        float64\n",
       "DayTemp           float64\n",
       "NightTemp         float64\n",
       "Weather           float64\n",
       "RISK_MM           float64\n",
       "loc_lat           float64\n",
       "loc_long          float64\n",
       "dtype: object"
      ]
     },
     "execution_count": 302,
     "metadata": {},
     "output_type": "execute_result"
    }
   ],
   "source": [
    "df_loc.dtypes"
   ]
  },
  {
   "cell_type": "markdown",
   "metadata": {},
   "source": [
    "#### Drop directions"
   ]
  },
  {
   "cell_type": "code",
   "execution_count": 367,
   "metadata": {},
   "outputs": [],
   "source": [
    "df_preprocessed=df_loc.copy()"
   ]
  },
  {
   "cell_type": "code",
   "execution_count": 368,
   "metadata": {},
   "outputs": [],
   "source": [
    "cols = [\"WindDir\",\"DayWindDir\",\"NightWindDir\"]\n",
    "for item in cols:\n",
    "    df_preprocessed[item] = df_loc[item].astype(\"category\").cat.codes +1"
   ]
  },
  {
   "cell_type": "code",
   "execution_count": 369,
   "metadata": {},
   "outputs": [],
   "source": [
    "df_preprocessed=df_preprocessed.drop(columns = ['Loc'])"
   ]
  },
  {
   "cell_type": "markdown",
   "metadata": {},
   "source": [
    "### Missing"
   ]
  },
  {
   "cell_type": "code",
   "execution_count": 370,
   "metadata": {},
   "outputs": [],
   "source": [
    "df_preprocessed = df_preprocessed.fillna(df_preprocessed.mean())"
   ]
  },
  {
   "cell_type": "code",
   "execution_count": 167,
   "metadata": {},
   "outputs": [
    {
     "data": {
      "text/plain": [
       "Date              float64\n",
       "TempLow           float64\n",
       "TempHigh          float64\n",
       "Steaming          float64\n",
       "Sun               float64\n",
       "WindDir              int8\n",
       "WindSpeed         float64\n",
       "DayWindSpeed      float64\n",
       "NightWindSpeed    float64\n",
       "DayHumidity       float64\n",
       "NightHumidity     float64\n",
       "DayPressure       float64\n",
       "NightPressure     float64\n",
       "DayCloud          float64\n",
       "NightCloud        float64\n",
       "DayTemp           float64\n",
       "NightTemp         float64\n",
       "Weather           float64\n",
       "RISK_MM           float64\n",
       "loc_lat           float64\n",
       "loc_long          float64\n",
       "dtype: object"
      ]
     },
     "execution_count": 167,
     "metadata": {},
     "output_type": "execute_result"
    }
   ],
   "source": [
    "df_preprocessed.dtypes"
   ]
  },
  {
   "cell_type": "markdown",
   "metadata": {},
   "source": [
    "### SplittingSHIT"
   ]
  },
  {
   "cell_type": "code",
   "execution_count": 315,
   "metadata": {},
   "outputs": [],
   "source": [
    "#df_preprocessed.loc[range(train_end_id), :]"
   ]
  },
  {
   "cell_type": "code",
   "execution_count": 316,
   "metadata": {},
   "outputs": [],
   "source": [
    "#df_preprocessed.iloc[:train_end_id, :]"
   ]
  },
  {
   "cell_type": "code",
   "execution_count": 371,
   "metadata": {},
   "outputs": [],
   "source": [
    "from sklearn.model_selection import train_test_split\n",
    "x_train, x_val, y_train, y_val = train_test_split(df_preprocessed.drop(columns = ['Weather']).iloc[:train_end_id, :],df_preprocessed['Weather'].iloc[:train_end_id], test_size=0.25)"
   ]
  },
  {
   "cell_type": "code",
   "execution_count": 372,
   "metadata": {},
   "outputs": [],
   "source": [
    "x_test = df_preprocessed.drop(columns = ['Weather']).iloc[train_end_id:, :]"
   ]
  },
  {
   "cell_type": "code",
   "execution_count": 319,
   "metadata": {},
   "outputs": [],
   "source": [
    "#df_preprocessed.dtypes.tolist()"
   ]
  },
  {
   "cell_type": "markdown",
   "metadata": {},
   "source": [
    "#### Standariz3"
   ]
  },
  {
   "cell_type": "code",
   "execution_count": 170,
   "metadata": {},
   "outputs": [],
   "source": [
    "num_cols = x_train.columns[x_train.dtypes.apply(lambda c: np.issubdtype(c, np.float64))]"
   ]
  },
  {
   "cell_type": "code",
   "execution_count": 171,
   "metadata": {},
   "outputs": [
    {
     "data": {
      "text/plain": [
       "Index(['Date', 'TempLow', 'TempHigh', 'Steaming', 'Sun', 'WindSpeed',\n",
       "       'DayWindSpeed', 'NightWindSpeed', 'DayHumidity', 'NightHumidity',\n",
       "       'DayPressure', 'NightPressure', 'DayCloud', 'NightCloud', 'DayTemp',\n",
       "       'NightTemp', 'RISK_MM', 'loc_lat', 'loc_long'],\n",
       "      dtype='object')"
      ]
     },
     "execution_count": 171,
     "metadata": {},
     "output_type": "execute_result"
    }
   ],
   "source": [
    "num_cols"
   ]
  },
  {
   "cell_type": "code",
   "execution_count": 373,
   "metadata": {},
   "outputs": [],
   "source": [
    "#x_train"
   ]
  },
  {
   "cell_type": "markdown",
   "metadata": {},
   "source": [
    "##### Original"
   ]
  },
  {
   "cell_type": "code",
   "execution_count": 374,
   "metadata": {},
   "outputs": [],
   "source": [
    "from sklearn.preprocessing import StandardScaler\n",
    "sc = StandardScaler()\n",
    "sc.fit(x_train)\n",
    "\n",
    "x_train_std = sc.transform(x_train)\n",
    "x_test_std = sc.transform(x_test)"
   ]
  },
  {
   "cell_type": "code",
   "execution_count": 375,
   "metadata": {},
   "outputs": [],
   "source": [
    "x_val_std = sc.transform(x_val)"
   ]
  },
  {
   "cell_type": "markdown",
   "metadata": {},
   "source": [
    "##### not standarizing cat"
   ]
  },
  {
   "cell_type": "code",
   "execution_count": 193,
   "metadata": {},
   "outputs": [],
   "source": [
    "from sklearn.preprocessing import StandardScaler\n",
    "sc = StandardScaler()\n",
    "sc.fit(x_train[num_cols])\n",
    "\n",
    "x_train_std=x_train.copy()\n",
    "x_test_std=x_test.copy()\n",
    "\n",
    "x_train_std[num_cols]: pd.DataFrame=sc.transform(x_train[num_cols])\n",
    "x_test_std[num_cols]: pd.DataFrame=sc.transform(x_test[num_cols])"
   ]
  },
  {
   "cell_type": "markdown",
   "metadata": {},
   "source": [
    "X_train=x_train.copy()\n",
    "X_train[num_cols]: pd.DataFrame=sc.transform(x_train[num_cols])"
   ]
  },
  {
   "cell_type": "markdown",
   "metadata": {},
   "source": [
    "X_train"
   ]
  },
  {
   "cell_type": "code",
   "execution_count": 195,
   "metadata": {},
   "outputs": [
    {
     "data": {
      "text/html": [
       "<div>\n",
       "<style scoped>\n",
       "    .dataframe tbody tr th:only-of-type {\n",
       "        vertical-align: middle;\n",
       "    }\n",
       "\n",
       "    .dataframe tbody tr th {\n",
       "        vertical-align: top;\n",
       "    }\n",
       "\n",
       "    .dataframe thead th {\n",
       "        text-align: right;\n",
       "    }\n",
       "</style>\n",
       "<table border=\"1\" class=\"dataframe\">\n",
       "  <thead>\n",
       "    <tr style=\"text-align: right;\">\n",
       "      <th></th>\n",
       "      <th>Date</th>\n",
       "      <th>TempLow</th>\n",
       "      <th>TempHigh</th>\n",
       "      <th>Steaming</th>\n",
       "      <th>Sun</th>\n",
       "      <th>WindDir</th>\n",
       "      <th>WindSpeed</th>\n",
       "      <th>DayWindSpeed</th>\n",
       "      <th>NightWindSpeed</th>\n",
       "      <th>DayHumidity</th>\n",
       "      <th>NightHumidity</th>\n",
       "      <th>DayPressure</th>\n",
       "      <th>NightPressure</th>\n",
       "      <th>DayCloud</th>\n",
       "      <th>NightCloud</th>\n",
       "      <th>DayTemp</th>\n",
       "      <th>NightTemp</th>\n",
       "      <th>RISK_MM</th>\n",
       "      <th>loc_lat</th>\n",
       "      <th>loc_long</th>\n",
       "    </tr>\n",
       "  </thead>\n",
       "  <tbody>\n",
       "    <tr>\n",
       "      <th>30821</th>\n",
       "      <td>0.001420</td>\n",
       "      <td>0.003901</td>\n",
       "      <td>1.010598</td>\n",
       "      <td>0.002532</td>\n",
       "      <td>0.003874</td>\n",
       "      <td>7</td>\n",
       "      <td>-0.005437</td>\n",
       "      <td>-1.754580</td>\n",
       "      <td>-1.224665</td>\n",
       "      <td>-2.187448</td>\n",
       "      <td>-1.020185</td>\n",
       "      <td>0.095514</td>\n",
       "      <td>0.001572</td>\n",
       "      <td>0.004963</td>\n",
       "      <td>-0.012760</td>\n",
       "      <td>0.074609</td>\n",
       "      <td>0.004276</td>\n",
       "      <td>-0.275376</td>\n",
       "      <td>0.001810</td>\n",
       "      <td>-0.006780</td>\n",
       "    </tr>\n",
       "    <tr>\n",
       "      <th>14577</th>\n",
       "      <td>0.537705</td>\n",
       "      <td>-1.910173</td>\n",
       "      <td>-0.822977</td>\n",
       "      <td>0.004889</td>\n",
       "      <td>0.964925</td>\n",
       "      <td>3</td>\n",
       "      <td>0.912063</td>\n",
       "      <td>-0.104121</td>\n",
       "      <td>0.718480</td>\n",
       "      <td>-0.002309</td>\n",
       "      <td>0.765072</td>\n",
       "      <td>0.001242</td>\n",
       "      <td>1.467002</td>\n",
       "      <td>-1.544103</td>\n",
       "      <td>-1.214445</td>\n",
       "      <td>-1.299693</td>\n",
       "      <td>0.004276</td>\n",
       "      <td>-0.275376</td>\n",
       "      <td>1.562940</td>\n",
       "      <td>-0.751074</td>\n",
       "    </tr>\n",
       "    <tr>\n",
       "      <th>15741</th>\n",
       "      <td>1.457587</td>\n",
       "      <td>0.003901</td>\n",
       "      <td>-0.981044</td>\n",
       "      <td>0.002532</td>\n",
       "      <td>0.008050</td>\n",
       "      <td>2</td>\n",
       "      <td>-0.005437</td>\n",
       "      <td>-0.010287</td>\n",
       "      <td>-1.224665</td>\n",
       "      <td>2.851527</td>\n",
       "      <td>-0.003088</td>\n",
       "      <td>-0.870929</td>\n",
       "      <td>0.001572</td>\n",
       "      <td>-0.001192</td>\n",
       "      <td>1.950495</td>\n",
       "      <td>0.004179</td>\n",
       "      <td>-1.480909</td>\n",
       "      <td>2.466862</td>\n",
       "      <td>2.122319</td>\n",
       "      <td>0.098839</td>\n",
       "    </tr>\n",
       "    <tr>\n",
       "      <th>24595</th>\n",
       "      <td>-0.328323</td>\n",
       "      <td>-1.301709</td>\n",
       "      <td>0.899951</td>\n",
       "      <td>0.002532</td>\n",
       "      <td>0.003874</td>\n",
       "      <td>7</td>\n",
       "      <td>-0.382207</td>\n",
       "      <td>-0.358038</td>\n",
       "      <td>-0.188321</td>\n",
       "      <td>-1.659894</td>\n",
       "      <td>-0.003088</td>\n",
       "      <td>-0.000406</td>\n",
       "      <td>0.001572</td>\n",
       "      <td>0.004963</td>\n",
       "      <td>-0.012710</td>\n",
       "      <td>0.004179</td>\n",
       "      <td>1.106448</td>\n",
       "      <td>-0.002362</td>\n",
       "      <td>-0.094071</td>\n",
       "      <td>-1.900999</td>\n",
       "    </tr>\n",
       "    <tr>\n",
       "      <th>11586</th>\n",
       "      <td>1.421994</td>\n",
       "      <td>0.819223</td>\n",
       "      <td>0.726078</td>\n",
       "      <td>0.461109</td>\n",
       "      <td>1.131573</td>\n",
       "      <td>2</td>\n",
       "      <td>0.394355</td>\n",
       "      <td>-0.104121</td>\n",
       "      <td>1.495739</td>\n",
       "      <td>-0.002309</td>\n",
       "      <td>-1.190263</td>\n",
       "      <td>0.061604</td>\n",
       "      <td>0.001572</td>\n",
       "      <td>-1.544103</td>\n",
       "      <td>-1.741935</td>\n",
       "      <td>1.242765</td>\n",
       "      <td>0.533299</td>\n",
       "      <td>-0.275376</td>\n",
       "      <td>2.357289</td>\n",
       "      <td>0.464758</td>\n",
       "    </tr>\n",
       "    <tr>\n",
       "      <th>...</th>\n",
       "      <td>...</td>\n",
       "      <td>...</td>\n",
       "      <td>...</td>\n",
       "      <td>...</td>\n",
       "      <td>...</td>\n",
       "      <td>...</td>\n",
       "      <td>...</td>\n",
       "      <td>...</td>\n",
       "      <td>...</td>\n",
       "      <td>...</td>\n",
       "      <td>...</td>\n",
       "      <td>...</td>\n",
       "      <td>...</td>\n",
       "      <td>...</td>\n",
       "      <td>...</td>\n",
       "      <td>...</td>\n",
       "      <td>...</td>\n",
       "      <td>...</td>\n",
       "      <td>...</td>\n",
       "      <td>...</td>\n",
       "    </tr>\n",
       "    <tr>\n",
       "      <th>6041</th>\n",
       "      <td>0.001420</td>\n",
       "      <td>-0.050012</td>\n",
       "      <td>0.109617</td>\n",
       "      <td>0.002532</td>\n",
       "      <td>0.003874</td>\n",
       "      <td>4</td>\n",
       "      <td>-0.005437</td>\n",
       "      <td>-0.865871</td>\n",
       "      <td>-0.188321</td>\n",
       "      <td>-0.002309</td>\n",
       "      <td>1.276225</td>\n",
       "      <td>0.001242</td>\n",
       "      <td>-0.605270</td>\n",
       "      <td>1.390414</td>\n",
       "      <td>-0.012760</td>\n",
       "      <td>-0.492291</td>\n",
       "      <td>0.189410</td>\n",
       "      <td>-0.275376</td>\n",
       "      <td>-0.513907</td>\n",
       "      <td>0.678670</td>\n",
       "    </tr>\n",
       "    <tr>\n",
       "      <th>24114</th>\n",
       "      <td>0.130269</td>\n",
       "      <td>1.688457</td>\n",
       "      <td>0.789304</td>\n",
       "      <td>-0.241669</td>\n",
       "      <td>-3.242949</td>\n",
       "      <td>2</td>\n",
       "      <td>-0.005437</td>\n",
       "      <td>-0.992830</td>\n",
       "      <td>-2.131466</td>\n",
       "      <td>0.708630</td>\n",
       "      <td>0.026145</td>\n",
       "      <td>-0.514871</td>\n",
       "      <td>-0.724171</td>\n",
       "      <td>1.390414</td>\n",
       "      <td>1.423005</td>\n",
       "      <td>1.242765</td>\n",
       "      <td>0.942691</td>\n",
       "      <td>-0.002362</td>\n",
       "      <td>0.001810</td>\n",
       "      <td>-0.006780</td>\n",
       "    </tr>\n",
       "    <tr>\n",
       "      <th>287</th>\n",
       "      <td>0.130800</td>\n",
       "      <td>-0.745399</td>\n",
       "      <td>-1.139111</td>\n",
       "      <td>-1.717504</td>\n",
       "      <td>-2.826328</td>\n",
       "      <td>1</td>\n",
       "      <td>-0.986199</td>\n",
       "      <td>-0.010287</td>\n",
       "      <td>-0.188321</td>\n",
       "      <td>0.820629</td>\n",
       "      <td>0.079596</td>\n",
       "      <td>0.332887</td>\n",
       "      <td>0.328951</td>\n",
       "      <td>1.390414</td>\n",
       "      <td>-0.012710</td>\n",
       "      <td>-0.767151</td>\n",
       "      <td>-0.973263</td>\n",
       "      <td>-0.275376</td>\n",
       "      <td>0.087347</td>\n",
       "      <td>-2.433655</td>\n",
       "    </tr>\n",
       "    <tr>\n",
       "      <th>20884</th>\n",
       "      <td>1.408597</td>\n",
       "      <td>1.949227</td>\n",
       "      <td>1.468991</td>\n",
       "      <td>1.374720</td>\n",
       "      <td>1.006587</td>\n",
       "      <td>0</td>\n",
       "      <td>-0.005437</td>\n",
       "      <td>-0.611955</td>\n",
       "      <td>0.070765</td>\n",
       "      <td>0.078839</td>\n",
       "      <td>-0.003088</td>\n",
       "      <td>-0.921795</td>\n",
       "      <td>-1.131831</td>\n",
       "      <td>-0.076845</td>\n",
       "      <td>-1.741935</td>\n",
       "      <td>1.775307</td>\n",
       "      <td>1.597718</td>\n",
       "      <td>-0.275376</td>\n",
       "      <td>3.573828</td>\n",
       "      <td>-1.036540</td>\n",
       "    </tr>\n",
       "    <tr>\n",
       "      <th>16003</th>\n",
       "      <td>-0.758352</td>\n",
       "      <td>1.601533</td>\n",
       "      <td>0.005551</td>\n",
       "      <td>-0.171392</td>\n",
       "      <td>1.173235</td>\n",
       "      <td>6</td>\n",
       "      <td>-0.554776</td>\n",
       "      <td>-0.104121</td>\n",
       "      <td>-0.188321</td>\n",
       "      <td>0.995583</td>\n",
       "      <td>-0.003088</td>\n",
       "      <td>-1.193077</td>\n",
       "      <td>-1.454562</td>\n",
       "      <td>-0.076845</td>\n",
       "      <td>-1.214445</td>\n",
       "      <td>1.809664</td>\n",
       "      <td>0.004276</td>\n",
       "      <td>-0.275376</td>\n",
       "      <td>2.775470</td>\n",
       "      <td>0.365964</td>\n",
       "    </tr>\n",
       "  </tbody>\n",
       "</table>\n",
       "<p>26367 rows × 20 columns</p>\n",
       "</div>"
      ],
      "text/plain": [
       "           Date   TempLow  TempHigh  Steaming       Sun  WindDir  WindSpeed  \\\n",
       "30821  0.001420  0.003901  1.010598  0.002532  0.003874        7  -0.005437   \n",
       "14577  0.537705 -1.910173 -0.822977  0.004889  0.964925        3   0.912063   \n",
       "15741  1.457587  0.003901 -0.981044  0.002532  0.008050        2  -0.005437   \n",
       "24595 -0.328323 -1.301709  0.899951  0.002532  0.003874        7  -0.382207   \n",
       "11586  1.421994  0.819223  0.726078  0.461109  1.131573        2   0.394355   \n",
       "...         ...       ...       ...       ...       ...      ...        ...   \n",
       "6041   0.001420 -0.050012  0.109617  0.002532  0.003874        4  -0.005437   \n",
       "24114  0.130269  1.688457  0.789304 -0.241669 -3.242949        2  -0.005437   \n",
       "287    0.130800 -0.745399 -1.139111 -1.717504 -2.826328        1  -0.986199   \n",
       "20884  1.408597  1.949227  1.468991  1.374720  1.006587        0  -0.005437   \n",
       "16003 -0.758352  1.601533  0.005551 -0.171392  1.173235        6  -0.554776   \n",
       "\n",
       "       DayWindSpeed  NightWindSpeed  DayHumidity  NightHumidity  DayPressure  \\\n",
       "30821     -1.754580       -1.224665    -2.187448      -1.020185     0.095514   \n",
       "14577     -0.104121        0.718480    -0.002309       0.765072     0.001242   \n",
       "15741     -0.010287       -1.224665     2.851527      -0.003088    -0.870929   \n",
       "24595     -0.358038       -0.188321    -1.659894      -0.003088    -0.000406   \n",
       "11586     -0.104121        1.495739    -0.002309      -1.190263     0.061604   \n",
       "...             ...             ...          ...            ...          ...   \n",
       "6041      -0.865871       -0.188321    -0.002309       1.276225     0.001242   \n",
       "24114     -0.992830       -2.131466     0.708630       0.026145    -0.514871   \n",
       "287       -0.010287       -0.188321     0.820629       0.079596     0.332887   \n",
       "20884     -0.611955        0.070765     0.078839      -0.003088    -0.921795   \n",
       "16003     -0.104121       -0.188321     0.995583      -0.003088    -1.193077   \n",
       "\n",
       "       NightPressure  DayCloud  NightCloud   DayTemp  NightTemp   RISK_MM  \\\n",
       "30821       0.001572  0.004963   -0.012760  0.074609   0.004276 -0.275376   \n",
       "14577       1.467002 -1.544103   -1.214445 -1.299693   0.004276 -0.275376   \n",
       "15741       0.001572 -0.001192    1.950495  0.004179  -1.480909  2.466862   \n",
       "24595       0.001572  0.004963   -0.012710  0.004179   1.106448 -0.002362   \n",
       "11586       0.001572 -1.544103   -1.741935  1.242765   0.533299 -0.275376   \n",
       "...              ...       ...         ...       ...        ...       ...   \n",
       "6041       -0.605270  1.390414   -0.012760 -0.492291   0.189410 -0.275376   \n",
       "24114      -0.724171  1.390414    1.423005  1.242765   0.942691 -0.002362   \n",
       "287         0.328951  1.390414   -0.012710 -0.767151  -0.973263 -0.275376   \n",
       "20884      -1.131831 -0.076845   -1.741935  1.775307   1.597718 -0.275376   \n",
       "16003      -1.454562 -0.076845   -1.214445  1.809664   0.004276 -0.275376   \n",
       "\n",
       "        loc_lat  loc_long  \n",
       "30821  0.001810 -0.006780  \n",
       "14577  1.562940 -0.751074  \n",
       "15741  2.122319  0.098839  \n",
       "24595 -0.094071 -1.900999  \n",
       "11586  2.357289  0.464758  \n",
       "...         ...       ...  \n",
       "6041  -0.513907  0.678670  \n",
       "24114  0.001810 -0.006780  \n",
       "287    0.087347 -2.433655  \n",
       "20884  3.573828 -1.036540  \n",
       "16003  2.775470  0.365964  \n",
       "\n",
       "[26367 rows x 20 columns]"
      ]
     },
     "execution_count": 195,
     "metadata": {},
     "output_type": "execute_result"
    }
   ],
   "source": [
    "x_train_std"
   ]
  },
  {
   "cell_type": "code",
   "execution_count": 196,
   "metadata": {},
   "outputs": [],
   "source": [
    "x_val_std=x_val.copy()\n",
    "x_val_std[num_cols]: pd.DataFrame=sc.transform(x_val[num_cols])"
   ]
  },
  {
   "cell_type": "markdown",
   "metadata": {},
   "source": [
    "##### Oversampleing"
   ]
  },
  {
   "cell_type": "code",
   "execution_count": 376,
   "metadata": {},
   "outputs": [],
   "source": [
    "from imblearn.over_sampling import SMOTE\n",
    "sampler = SMOTE(random_state=42)\n",
    "x_train_std, y_train = sampler.fit_resample(x_train_std, y_train)"
   ]
  },
  {
   "cell_type": "code",
   "execution_count": 187,
   "metadata": {},
   "outputs": [
    {
     "data": {
      "image/png": "[encoded data removed]",
      "text/plain": [
       "<Figure size 432x288 with 1 Axes>"
      ]
     },
     "metadata": {
      "needs_background": "light"
     },
     "output_type": "display_data"
    }
   ],
   "source": [
    "ax = df['Weather'].value_counts().plot(kind='bar')"
   ]
  },
  {
   "cell_type": "code",
   "execution_count": 192,
   "metadata": {},
   "outputs": [
    {
     "data": {
      "image/png": "[encoded data removed]",
      "text/plain": [
       "<Figure size 432x288 with 1 Axes>"
      ]
     },
     "metadata": {
      "needs_background": "light"
     },
     "output_type": "display_data"
    }
   ],
   "source": [
    "plot_y = pd.DataFrame(y_train, columns = ['Weather'])\n",
    "after_processed = plot_y['Weather'].value_counts().plot(kind='bar')"
   ]
  },
  {
   "cell_type": "code",
   "execution_count": 193,
   "metadata": {},
   "outputs": [
    {
     "data": {
      "image/png": "[encoded data removed]",
      "text/plain": [
       "<Figure size 432x288 with 1 Axes>"
      ]
     },
     "metadata": {
      "needs_background": "light"
     },
     "output_type": "display_data"
    }
   ],
   "source": [
    "plot_y_val = pd.DataFrame(y_val, columns = ['Weather'])\n",
    "plot_y_val_plot = plot_y_val['Weather'].value_counts().plot(kind='bar')"
   ]
  },
  {
   "cell_type": "markdown",
   "metadata": {},
   "source": [
    "## XGB"
   ]
  },
  {
   "cell_type": "code",
   "execution_count": 272,
   "metadata": {},
   "outputs": [],
   "source": [
    "xgb = XGBClassifier()"
   ]
  },
  {
   "cell_type": "code",
   "execution_count": 40,
   "metadata": {},
   "outputs": [],
   "source": [
    "from sklearn.model_selection import GridSearchCV"
   ]
  },
  {
   "cell_type": "code",
   "execution_count": 54,
   "metadata": {},
   "outputs": [],
   "source": [
    "param_dist = {\"max_depth\": [10,30,50],\n",
    "              \"min_child_weight\" : [1,3,6],\n",
    "              \"n_estimators\": [200],\n",
    "              \"learning_rate\": [0.05, 0.1,0.16],}\n",
    "grid_search = GridSearchCV(xgb, param_grid=param_dist, cv = 3, verbose=10, n_jobs=8, scoring='f1')"
   ]
  },
  {
   "cell_type": "code",
   "execution_count": 56,
   "metadata": {
    "collapsed": true,
    "jupyter": {
     "outputs_hidden": true
    }
   },
   "outputs": [
    {
     "name": "stdout",
     "output_type": "stream",
     "text": [
      "Fitting 3 folds for each of 27 candidates, totalling 81 fits\n"
     ]
    },
    {
     "name": "stderr",
     "output_type": "stream",
     "text": [
      "/opt/anaconda3/lib/python3.8/site-packages/xgboost/sklearn.py:888: UserWarning: The use of label encoder in XGBClassifier is deprecated and will be removed in a future release. To remove this warning, do the following: 1) Pass option use_label_encoder=False when constructing XGBClassifier object; and 2) Encode your labels (y) as integers starting with 0, i.e. 0, 1, 2, ..., [num_class - 1].\n",
      "  warnings.warn(label_encoder_deprecation_msg, UserWarning)\n"
     ]
    },
    {
     "name": "stdout",
     "output_type": "stream",
     "text": [
      "[13:51:42] WARNING: /opt/concourse/worker/volumes/live/7a2b9f41-3287-451b-6691-43e9a6c0910f/volume/xgboost-split_1619728204606/work/src/learner.cc:1061: Starting in XGBoost 1.3.0, the default evaluation metric used with the objective 'binary:logistic' was changed from 'error' to 'logloss'. Explicitly set eval_metric if you'd like to restore the old behavior.\n"
     ]
    },
    {
     "data": {
      "text/plain": [
       "GridSearchCV(cv=3,\n",
       "             estimator=XGBClassifier(base_score=None, booster=None,\n",
       "                                     colsample_bylevel=None,\n",
       "                                     colsample_bynode=None,\n",
       "                                     colsample_bytree=None, gamma=None,\n",
       "                                     gpu_id=None, importance_type='gain',\n",
       "                                     interaction_constraints=None,\n",
       "                                     learning_rate=None, max_delta_step=None,\n",
       "                                     max_depth=None, min_child_weight=None,\n",
       "                                     missing=nan, monotone_constraints=None,\n",
       "                                     n_estimators=100, n_jobs=None,\n",
       "                                     num_parallel_tree=None, random_state=None,\n",
       "                                     reg_alpha=None, reg_lambda=None,\n",
       "                                     scale_pos_weight=None, subsample=None,\n",
       "                                     tree_method=None, validate_parameters=None,\n",
       "                                     verbosity=None),\n",
       "             n_jobs=8,\n",
       "             param_grid={'learning_rate': [0.05, 0.1, 0.16],\n",
       "                         'max_depth': [10, 30, 50],\n",
       "                         'min_child_weight': [1, 3, 6], 'n_estimators': [200]},\n",
       "             scoring='f1', verbose=10)"
      ]
     },
     "execution_count": 56,
     "metadata": {},
     "output_type": "execute_result"
    }
   ],
   "source": [
    "grid_search.fit(x_train_std, y_train)"
   ]
  },
  {
   "cell_type": "code",
   "execution_count": 57,
   "metadata": {},
   "outputs": [
    {
     "data": {
      "text/plain": [
       "XGBClassifier(base_score=0.5, booster='gbtree', colsample_bylevel=1,\n",
       "              colsample_bynode=1, colsample_bytree=1, gamma=0, gpu_id=-1,\n",
       "              importance_type='gain', interaction_constraints='',\n",
       "              learning_rate=0.05, max_delta_step=0, max_depth=30,\n",
       "              min_child_weight=1, missing=nan, monotone_constraints='()',\n",
       "              n_estimators=200, n_jobs=8, num_parallel_tree=1, random_state=0,\n",
       "              reg_alpha=0, reg_lambda=1, scale_pos_weight=1, subsample=1,\n",
       "              tree_method='exact', validate_parameters=1, verbosity=None)"
      ]
     },
     "execution_count": 57,
     "metadata": {},
     "output_type": "execute_result"
    }
   ],
   "source": [
    "grid_search.best_estimator_"
   ]
  },
  {
   "cell_type": "code",
   "execution_count": 273,
   "metadata": {},
   "outputs": [],
   "source": [
    "xgb_model = XGBClassifier(base_score=0.5, booster='gbtree', colsample_bylevel=1,\n",
    "              colsample_bynode=1, colsample_bytree=1, gamma=0, gpu_id=-1,\n",
    "              importance_type='gain', interaction_constraints='',\n",
    "              learning_rate=0.05, max_delta_step=0, max_depth=10,\n",
    "              min_child_weight=1, monotone_constraints='()',\n",
    "              n_estimators=200, n_jobs=8, num_parallel_tree=1, random_state=0,\n",
    "              reg_alpha=0, reg_lambda=1, scale_pos_weight=6, subsample=1,\n",
    "              tree_method='exact', validate_parameters=1, verbosity=None,use_label_encoder=False)"
   ]
  },
  {
   "cell_type": "code",
   "execution_count": 274,
   "metadata": {},
   "outputs": [
    {
     "name": "stdout",
     "output_type": "stream",
     "text": [
      "[09:45:52] WARNING: /opt/concourse/worker/volumes/live/7a2b9f41-3287-451b-6691-43e9a6c0910f/volume/xgboost-split_1619728204606/work/src/learner.cc:1061: Starting in XGBoost 1.3.0, the default evaluation metric used with the objective 'binary:logistic' was changed from 'error' to 'logloss'. Explicitly set eval_metric if you'd like to restore the old behavior.\n"
     ]
    },
    {
     "data": {
      "text/plain": [
       "XGBClassifier(base_score=0.5, booster='gbtree', colsample_bylevel=1,\n",
       "              colsample_bynode=1, colsample_bytree=1, gamma=0, gpu_id=-1,\n",
       "              importance_type='gain', interaction_constraints='',\n",
       "              learning_rate=0.05, max_delta_step=0, max_depth=10,\n",
       "              min_child_weight=1, missing=nan, monotone_constraints='()',\n",
       "              n_estimators=200, n_jobs=8, num_parallel_tree=1, random_state=0,\n",
       "              reg_alpha=0, reg_lambda=1, scale_pos_weight=6, subsample=1,\n",
       "              tree_method='exact', use_label_encoder=False,\n",
       "              validate_parameters=1, verbosity=None)"
      ]
     },
     "execution_count": 274,
     "metadata": {},
     "output_type": "execute_result"
    }
   ],
   "source": [
    "xgb_model.fit(x_train_std,y_train)"
   ]
  },
  {
   "cell_type": "code",
   "execution_count": 97,
   "metadata": {},
   "outputs": [
    {
     "name": "stdout",
     "output_type": "stream",
     "text": [
      "Accuracy: 0.858118\n",
      "f1-score: 0.432924\n"
     ]
    }
   ],
   "source": [
    "y_pred_xgb = xgb_model.predict(x_val_std)\n",
    "print('Accuracy: %f' % accuracy_score(y_val, y_pred_xgb))\n",
    "print('f1-score: %f' % f1_score(y_val, y_pred_xgb))"
   ]
  },
  {
   "cell_type": "markdown",
   "metadata": {},
   "source": [
    "#### Drop cat"
   ]
  },
  {
   "cell_type": "code",
   "execution_count": 220,
   "metadata": {},
   "outputs": [
    {
     "name": "stdout",
     "output_type": "stream",
     "text": [
      "Accuracy: 0.862897\n",
      "f1-score: 0.448513\n"
     ]
    }
   ],
   "source": [
    "y_pred_xgb = xgb_model.predict(x_val_std)\n",
    "print('Accuracy: %f' % accuracy_score(y_val, y_pred_xgb))\n",
    "print('f1-score: %f' % f1_score(y_val, y_pred_xgb))"
   ]
  },
  {
   "cell_type": "markdown",
   "metadata": {},
   "source": [
    "##### Drop NA>9 std cat"
   ]
  },
  {
   "cell_type": "code",
   "execution_count": 275,
   "metadata": {},
   "outputs": [
    {
     "name": "stdout",
     "output_type": "stream",
     "text": [
      "Accuracy: 0.872682\n",
      "f1-score: 0.451739\n"
     ]
    }
   ],
   "source": [
    "y_pred_xgb = xgb_model.predict(x_val_std)\n",
    "print('Accuracy: %f' % accuracy_score(y_val, y_pred_xgb))\n",
    "print('f1-score: %f' % f1_score(y_val, y_pred_xgb))"
   ]
  },
  {
   "cell_type": "code",
   "execution_count": 202,
   "metadata": {},
   "outputs": [],
   "source": [
    "import seaborn as sns"
   ]
  },
  {
   "cell_type": "code",
   "execution_count": 221,
   "metadata": {},
   "outputs": [
    {
     "data": {
      "text/plain": [
       "<matplotlib.axes._subplots.AxesSubplot at 0x7f9be13c2160>"
      ]
     },
     "execution_count": 221,
     "metadata": {},
     "output_type": "execute_result"
    },
    {
     "data": {
      "image/png": "[encoded data removed]",
      "text/plain": [
       "<Figure size 432x288 with 2 Axes>"
      ]
     },
     "metadata": {
      "needs_background": "light"
     },
     "output_type": "display_data"
    }
   ],
   "source": [
    "cm=confusion_matrix(y_val,y_pred_xgb)\n",
    "plt.figure(figsize=(6,4))\n",
    "sns.heatmap(cm,annot=True,cmap='Blues')"
   ]
  },
  {
   "cell_type": "markdown",
   "metadata": {},
   "source": [
    "## Craete Ans "
   ]
  },
  {
   "cell_type": "code",
   "execution_count": 101,
   "metadata": {},
   "outputs": [],
   "source": [
    "ans_pred = xgb_model.predict(x_test_std)\n",
    "df_sap = pd.DataFrame(ans_pred.astype(int), columns = ['Weather'])\n",
    "df_sap.to_csv('xgboost_spw_6.csv',  index_label = 'Id')"
   ]
  },
  {
   "cell_type": "markdown",
   "metadata": {},
   "source": [
    "## Catboost"
   ]
  },
  {
   "cell_type": "code",
   "execution_count": 1,
   "metadata": {},
   "outputs": [
    {
     "ename": "NameError",
     "evalue": "name 'cab' is not defined",
     "output_type": "error",
     "traceback": [
      "\u001b[0;31m---------------------------------------------------------------------------\u001b[0m",
      "\u001b[0;31mNameError\u001b[0m                                 Traceback (most recent call last)",
      "\u001b[0;32m<ipython-input-1-368871fb90dd>\u001b[0m in \u001b[0;36m<module>\u001b[0;34m\u001b[0m\n\u001b[1;32m      3\u001b[0m          \u001b[0;34m'l2_leaf_reg'\u001b[0m\u001b[0;34m:\u001b[0m \u001b[0;34m[\u001b[0m\u001b[0;36m1\u001b[0m\u001b[0;34m,\u001b[0m\u001b[0;36m4\u001b[0m\u001b[0;34m,\u001b[0m\u001b[0;36m9\u001b[0m\u001b[0;34m]\u001b[0m\u001b[0;34m,\u001b[0m\u001b[0;34m\u001b[0m\u001b[0;34m\u001b[0m\u001b[0m\n\u001b[1;32m      4\u001b[0m          'iterations': [200]}\n\u001b[0;32m----> 5\u001b[0;31m \u001b[0mcb\u001b[0m \u001b[0;34m=\u001b[0m \u001b[0mcab\u001b[0m\u001b[0;34m.\u001b[0m\u001b[0mCatBoostClassifier\u001b[0m\u001b[0;34m(\u001b[0m\u001b[0msilent\u001b[0m\u001b[0;34m=\u001b[0m\u001b[0;32mTrue\u001b[0m\u001b[0;34m)\u001b[0m\u001b[0;34m\u001b[0m\u001b[0;34m\u001b[0m\u001b[0m\n\u001b[0m\u001b[1;32m      6\u001b[0m \u001b[0mcb_model\u001b[0m \u001b[0;34m=\u001b[0m \u001b[0mGridSearchCV\u001b[0m\u001b[0;34m(\u001b[0m\u001b[0mcb\u001b[0m\u001b[0;34m,\u001b[0m \u001b[0mparams\u001b[0m\u001b[0;34m,\u001b[0m \u001b[0mscoring\u001b[0m\u001b[0;34m=\u001b[0m\u001b[0;34m\"f1\"\u001b[0m\u001b[0;34m,\u001b[0m \u001b[0mcv\u001b[0m \u001b[0;34m=\u001b[0m \u001b[0;36m10\u001b[0m\u001b[0;34m)\u001b[0m\u001b[0;34m\u001b[0m\u001b[0;34m\u001b[0m\u001b[0m\n\u001b[1;32m      7\u001b[0m \u001b[0mcb_model\u001b[0m\u001b[0;34m.\u001b[0m\u001b[0mfit\u001b[0m\u001b[0;34m(\u001b[0m\u001b[0mx_train_std\u001b[0m\u001b[0;34m,\u001b[0m \u001b[0my_train\u001b[0m\u001b[0;34m)\u001b[0m\u001b[0;34m\u001b[0m\u001b[0;34m\u001b[0m\u001b[0m\n",
      "\u001b[0;31mNameError\u001b[0m: name 'cab' is not defined"
     ]
    }
   ],
   "source": [
    "params = {'depth': [4, 7, 10],\n",
    "          'learning_rate' : [0.03, 0.1, 0.15],\n",
    "         'l2_leaf_reg': [1,4,9],\n",
    "         'iterations': [200]}\n",
    "cb = cab.CatBoostClassifier(silent=True)\n",
    "cb_model = GridSearchCV(cb, params, scoring=\"f1\", cv = 10)\n",
    "cb_model.fit(x_train_std, y_train)"
   ]
  },
  {
   "cell_type": "markdown",
   "metadata": {},
   "source": [
    "## Light BGM"
   ]
  },
  {
   "cell_type": "code",
   "execution_count": 103,
   "metadata": {},
   "outputs": [],
   "source": [
    "lg = lgb.LGBMClassifier(silent=False)\n",
    "param_dist = {\"max_depth\": [3,4,5,6,7,8,9,10],\n",
    "              \"learning_rate\" : [0.01,0.05,0.1],\n",
    "              \"num_leaves\": [300,900],\n",
    "              \"n_estimators\": [200]\n",
    "             }\n",
    "grid_search = GridSearchCV(lg, n_jobs=8, param_grid=param_dist, cv = 3, scoring=\"f1\", verbose=5)"
   ]
  },
  {
   "cell_type": "code",
   "execution_count": 104,
   "metadata": {
    "collapsed": true,
    "jupyter": {
     "outputs_hidden": true
    }
   },
   "outputs": [
    {
     "name": "stdout",
     "output_type": "stream",
     "text": [
      "Fitting 3 folds for each of 48 candidates, totalling 144 fits\n",
      "[LightGBM] [Info] Number of positive: 23622, number of negative: 23622\n",
      "[LightGBM] [Warning] Auto-choosing col-wise multi-threading, the overhead of testing was 0.004354 seconds.\n",
      "You can set `force_col_wise=true` to remove the overhead.\n",
      "[LightGBM] [Info] Total Bins 5093\n",
      "[LightGBM] [Info] Number of data points in the train set: 47244, number of used features: 20\n",
      "[LightGBM] [Info] [binary:BoostFromScore]: pavg=0.500000 -> initscore=0.000000\n",
      "[LightGBM] [Warning] No further splits with positive gain, best gain: -inf\n",
      "[LightGBM] [Warning] No further splits with positive gain, best gain: -inf\n",
      "[LightGBM] [Warning] No further splits with positive gain, best gain: -inf\n",
      "[LightGBM] [Warning] No further splits with positive gain, best gain: -inf\n",
      "[LightGBM] [Warning] No further splits with positive gain, best gain: -inf\n",
      "[LightGBM] [Warning] No further splits with positive gain, best gain: -inf\n",
      "[LightGBM] [Warning] No further splits with positive gain, best gain: -inf\n",
      "[LightGBM] [Warning] No further splits with positive gain, best gain: -inf\n",
      "[LightGBM] [Warning] No further splits with positive gain, best gain: -inf\n",
      "[LightGBM] [Warning] No further splits with positive gain, best gain: -inf\n",
      "[LightGBM] [Warning] No further splits with positive gain, best gain: -inf\n",
      "[LightGBM] [Warning] No further splits with positive gain, best gain: -inf\n",
      "[LightGBM] [Warning] No further splits with positive gain, best gain: -inf\n",
      "[LightGBM] [Warning] No further splits with positive gain, best gain: -inf\n",
      "[LightGBM] [Warning] No further splits with positive gain, best gain: -inf\n",
      "[LightGBM] [Warning] No further splits with positive gain, best gain: -inf\n",
      "[LightGBM] [Warning] No further splits with positive gain, best gain: -inf\n",
      "[LightGBM] [Warning] No further splits with positive gain, best gain: -inf\n",
      "[LightGBM] [Warning] No further splits with positive gain, best gain: -inf\n",
      "[LightGBM] [Warning] No further splits with positive gain, best gain: -inf\n",
      "[LightGBM] [Warning] No further splits with positive gain, best gain: -inf\n",
      "[LightGBM] [Warning] No further splits with positive gain, best gain: -inf\n",
      "[LightGBM] [Warning] No further splits with positive gain, best gain: -inf\n",
      "[LightGBM] [Warning] No further splits with positive gain, best gain: -inf\n",
      "[LightGBM] [Warning] No further splits with positive gain, best gain: -inf\n",
      "[LightGBM] [Warning] No further splits with positive gain, best gain: -inf\n",
      "[LightGBM] [Warning] No further splits with positive gain, best gain: -inf\n",
      "[LightGBM] [Warning] No further splits with positive gain, best gain: -inf\n",
      "[LightGBM] [Warning] No further splits with positive gain, best gain: -inf\n",
      "[LightGBM] [Warning] No further splits with positive gain, best gain: -inf\n",
      "[LightGBM] [Warning] No further splits with positive gain, best gain: -inf\n",
      "[LightGBM] [Warning] No further splits with positive gain, best gain: -inf\n",
      "[LightGBM] [Warning] No further splits with positive gain, best gain: -inf\n",
      "[LightGBM] [Warning] No further splits with positive gain, best gain: -inf\n",
      "[LightGBM] [Warning] No further splits with positive gain, best gain: -inf\n",
      "[LightGBM] [Warning] No further splits with positive gain, best gain: -inf\n",
      "[LightGBM] [Warning] No further splits with positive gain, best gain: -inf\n",
      "[LightGBM] [Warning] No further splits with positive gain, best gain: -inf\n",
      "[LightGBM] [Warning] No further splits with positive gain, best gain: -inf\n",
      "[LightGBM] [Warning] No further splits with positive gain, best gain: -inf\n",
      "[LightGBM] [Warning] No further splits with positive gain, best gain: -inf\n",
      "[LightGBM] [Warning] No further splits with positive gain, best gain: -inf\n",
      "[LightGBM] [Warning] No further splits with positive gain, best gain: -inf\n",
      "[LightGBM] [Warning] No further splits with positive gain, best gain: -inf\n",
      "[LightGBM] [Warning] No further splits with positive gain, best gain: -inf\n",
      "[LightGBM] [Warning] No further splits with positive gain, best gain: -inf\n",
      "[LightGBM] [Warning] No further splits with positive gain, best gain: -inf\n",
      "[LightGBM] [Warning] No further splits with positive gain, best gain: -inf\n",
      "[LightGBM] [Warning] No further splits with positive gain, best gain: -inf\n",
      "[LightGBM] [Warning] No further splits with positive gain, best gain: -inf\n",
      "[LightGBM] [Warning] No further splits with positive gain, best gain: -inf\n",
      "[LightGBM] [Warning] No further splits with positive gain, best gain: -inf\n",
      "[LightGBM] [Warning] No further splits with positive gain, best gain: -inf\n",
      "[LightGBM] [Warning] No further splits with positive gain, best gain: -inf\n",
      "[LightGBM] [Warning] No further splits with positive gain, best gain: -inf\n",
      "[LightGBM] [Warning] No further splits with positive gain, best gain: -inf\n",
      "[LightGBM] [Warning] No further splits with positive gain, best gain: -inf\n",
      "[LightGBM] [Warning] No further splits with positive gain, best gain: -inf\n",
      "[LightGBM] [Warning] No further splits with positive gain, best gain: -inf\n",
      "[LightGBM] [Warning] No further splits with positive gain, best gain: -inf\n",
      "[LightGBM] [Warning] No further splits with positive gain, best gain: -inf\n",
      "[LightGBM] [Warning] No further splits with positive gain, best gain: -inf\n",
      "[LightGBM] [Warning] No further splits with positive gain, best gain: -inf\n",
      "[LightGBM] [Warning] No further splits with positive gain, best gain: -inf\n",
      "[LightGBM] [Warning] No further splits with positive gain, best gain: -inf\n",
      "[LightGBM] [Warning] No further splits with positive gain, best gain: -inf\n",
      "[LightGBM] [Warning] No further splits with positive gain, best gain: -inf\n",
      "[LightGBM] [Warning] No further splits with positive gain, best gain: -inf\n",
      "[LightGBM] [Warning] No further splits with positive gain, best gain: -inf\n",
      "[LightGBM] [Warning] No further splits with positive gain, best gain: -inf\n",
      "[LightGBM] [Warning] No further splits with positive gain, best gain: -inf\n",
      "[LightGBM] [Warning] No further splits with positive gain, best gain: -inf\n",
      "[LightGBM] [Warning] No further splits with positive gain, best gain: -inf\n",
      "[LightGBM] [Warning] No further splits with positive gain, best gain: -inf\n",
      "[LightGBM] [Warning] No further splits with positive gain, best gain: -inf\n",
      "[LightGBM] [Warning] No further splits with positive gain, best gain: -inf\n",
      "[LightGBM] [Warning] No further splits with positive gain, best gain: -inf\n",
      "[LightGBM] [Warning] No further splits with positive gain, best gain: -inf\n",
      "[LightGBM] [Warning] No further splits with positive gain, best gain: -inf\n",
      "[LightGBM] [Warning] No further splits with positive gain, best gain: -inf\n",
      "[LightGBM] [Warning] No further splits with positive gain, best gain: -inf\n",
      "[LightGBM] [Warning] No further splits with positive gain, best gain: -inf\n",
      "[LightGBM] [Warning] No further splits with positive gain, best gain: -inf\n",
      "[LightGBM] [Warning] No further splits with positive gain, best gain: -inf\n",
      "[LightGBM] [Warning] No further splits with positive gain, best gain: -inf\n",
      "[LightGBM] [Warning] No further splits with positive gain, best gain: -inf\n",
      "[LightGBM] [Warning] No further splits with positive gain, best gain: -inf\n",
      "[LightGBM] [Warning] No further splits with positive gain, best gain: -inf\n",
      "[LightGBM] [Warning] No further splits with positive gain, best gain: -inf\n",
      "[LightGBM] [Warning] No further splits with positive gain, best gain: -inf\n",
      "[LightGBM] [Warning] No further splits with positive gain, best gain: -inf\n",
      "[LightGBM] [Warning] No further splits with positive gain, best gain: -inf\n",
      "[LightGBM] [Warning] No further splits with positive gain, best gain: -inf\n",
      "[LightGBM] [Warning] No further splits with positive gain, best gain: -inf\n",
      "[LightGBM] [Warning] No further splits with positive gain, best gain: -inf\n",
      "[LightGBM] [Warning] No further splits with positive gain, best gain: -inf\n",
      "[LightGBM] [Warning] No further splits with positive gain, best gain: -inf\n",
      "[LightGBM] [Warning] No further splits with positive gain, best gain: -inf\n",
      "[LightGBM] [Warning] No further splits with positive gain, best gain: -inf\n",
      "[LightGBM] [Warning] No further splits with positive gain, best gain: -inf\n",
      "[LightGBM] [Warning] No further splits with positive gain, best gain: -inf\n",
      "[LightGBM] [Warning] No further splits with positive gain, best gain: -inf\n",
      "[LightGBM] [Warning] No further splits with positive gain, best gain: -inf\n",
      "[LightGBM] [Warning] No further splits with positive gain, best gain: -inf\n",
      "[LightGBM] [Warning] No further splits with positive gain, best gain: -inf\n",
      "[LightGBM] [Warning] No further splits with positive gain, best gain: -inf\n",
      "[LightGBM] [Warning] No further splits with positive gain, best gain: -inf\n",
      "[LightGBM] [Warning] No further splits with positive gain, best gain: -inf\n",
      "[LightGBM] [Warning] No further splits with positive gain, best gain: -inf\n",
      "[LightGBM] [Warning] No further splits with positive gain, best gain: -inf\n",
      "[LightGBM] [Warning] No further splits with positive gain, best gain: -inf\n",
      "[LightGBM] [Warning] No further splits with positive gain, best gain: -inf\n",
      "[LightGBM] [Warning] No further splits with positive gain, best gain: -inf\n",
      "[LightGBM] [Warning] No further splits with positive gain, best gain: -inf\n",
      "[LightGBM] [Warning] No further splits with positive gain, best gain: -inf\n",
      "[LightGBM] [Warning] No further splits with positive gain, best gain: -inf\n",
      "[LightGBM] [Warning] No further splits with positive gain, best gain: -inf\n",
      "[LightGBM] [Warning] No further splits with positive gain, best gain: -inf\n",
      "[LightGBM] [Warning] No further splits with positive gain, best gain: -inf\n",
      "[LightGBM] [Warning] No further splits with positive gain, best gain: -inf\n",
      "[LightGBM] [Warning] No further splits with positive gain, best gain: -inf\n",
      "[LightGBM] [Warning] No further splits with positive gain, best gain: -inf\n",
      "[LightGBM] [Warning] No further splits with positive gain, best gain: -inf\n",
      "[LightGBM] [Warning] No further splits with positive gain, best gain: -inf\n",
      "[LightGBM] [Warning] No further splits with positive gain, best gain: -inf\n",
      "[LightGBM] [Warning] No further splits with positive gain, best gain: -inf\n",
      "[LightGBM] [Warning] No further splits with positive gain, best gain: -inf\n",
      "[LightGBM] [Warning] No further splits with positive gain, best gain: -inf\n",
      "[LightGBM] [Warning] No further splits with positive gain, best gain: -inf\n",
      "[LightGBM] [Warning] No further splits with positive gain, best gain: -inf\n",
      "[LightGBM] [Warning] No further splits with positive gain, best gain: -inf\n",
      "[LightGBM] [Warning] No further splits with positive gain, best gain: -inf\n",
      "[LightGBM] [Warning] No further splits with positive gain, best gain: -inf\n",
      "[LightGBM] [Warning] No further splits with positive gain, best gain: -inf\n",
      "[LightGBM] [Warning] No further splits with positive gain, best gain: -inf\n",
      "[LightGBM] [Warning] No further splits with positive gain, best gain: -inf\n",
      "[LightGBM] [Warning] No further splits with positive gain, best gain: -inf\n",
      "[LightGBM] [Warning] No further splits with positive gain, best gain: -inf\n",
      "[LightGBM] [Warning] No further splits with positive gain, best gain: -inf\n",
      "[LightGBM] [Warning] No further splits with positive gain, best gain: -inf\n",
      "[LightGBM] [Warning] No further splits with positive gain, best gain: -inf\n",
      "[LightGBM] [Warning] No further splits with positive gain, best gain: -inf\n",
      "[LightGBM] [Warning] No further splits with positive gain, best gain: -inf\n",
      "[LightGBM] [Warning] No further splits with positive gain, best gain: -inf\n",
      "[LightGBM] [Warning] No further splits with positive gain, best gain: -inf\n",
      "[LightGBM] [Warning] No further splits with positive gain, best gain: -inf\n",
      "[LightGBM] [Warning] No further splits with positive gain, best gain: -inf\n",
      "[LightGBM] [Warning] No further splits with positive gain, best gain: -inf\n",
      "[LightGBM] [Warning] No further splits with positive gain, best gain: -inf\n",
      "[LightGBM] [Warning] No further splits with positive gain, best gain: -inf\n",
      "[LightGBM] [Warning] No further splits with positive gain, best gain: -inf\n",
      "[LightGBM] [Warning] No further splits with positive gain, best gain: -inf\n",
      "[LightGBM] [Warning] No further splits with positive gain, best gain: -inf\n",
      "[LightGBM] [Warning] No further splits with positive gain, best gain: -inf\n",
      "[LightGBM] [Warning] No further splits with positive gain, best gain: -inf\n",
      "[LightGBM] [Warning] No further splits with positive gain, best gain: -inf\n",
      "[LightGBM] [Warning] No further splits with positive gain, best gain: -inf\n",
      "[LightGBM] [Warning] No further splits with positive gain, best gain: -inf\n",
      "[LightGBM] [Warning] No further splits with positive gain, best gain: -inf\n",
      "[LightGBM] [Warning] No further splits with positive gain, best gain: -inf\n",
      "[LightGBM] [Warning] No further splits with positive gain, best gain: -inf\n",
      "[LightGBM] [Warning] No further splits with positive gain, best gain: -inf\n",
      "[LightGBM] [Warning] No further splits with positive gain, best gain: -inf\n",
      "[LightGBM] [Warning] No further splits with positive gain, best gain: -inf\n",
      "[LightGBM] [Warning] No further splits with positive gain, best gain: -inf\n",
      "[LightGBM] [Warning] No further splits with positive gain, best gain: -inf\n",
      "[LightGBM] [Warning] No further splits with positive gain, best gain: -inf\n",
      "[LightGBM] [Warning] No further splits with positive gain, best gain: -inf\n",
      "[LightGBM] [Warning] No further splits with positive gain, best gain: -inf\n",
      "[LightGBM] [Warning] No further splits with positive gain, best gain: -inf\n",
      "[LightGBM] [Warning] No further splits with positive gain, best gain: -inf\n",
      "[LightGBM] [Warning] No further splits with positive gain, best gain: -inf\n",
      "[LightGBM] [Warning] No further splits with positive gain, best gain: -inf\n",
      "[LightGBM] [Warning] No further splits with positive gain, best gain: -inf\n",
      "[LightGBM] [Warning] No further splits with positive gain, best gain: -inf\n",
      "[LightGBM] [Warning] No further splits with positive gain, best gain: -inf\n",
      "[LightGBM] [Warning] No further splits with positive gain, best gain: -inf\n",
      "[LightGBM] [Warning] No further splits with positive gain, best gain: -inf\n",
      "[LightGBM] [Warning] No further splits with positive gain, best gain: -inf\n",
      "[LightGBM] [Warning] No further splits with positive gain, best gain: -inf\n",
      "[LightGBM] [Warning] No further splits with positive gain, best gain: -inf\n",
      "[LightGBM] [Warning] No further splits with positive gain, best gain: -inf\n",
      "[LightGBM] [Warning] No further splits with positive gain, best gain: -inf\n",
      "[LightGBM] [Warning] No further splits with positive gain, best gain: -inf\n",
      "[LightGBM] [Warning] No further splits with positive gain, best gain: -inf\n",
      "[LightGBM] [Warning] No further splits with positive gain, best gain: -inf\n",
      "[LightGBM] [Warning] No further splits with positive gain, best gain: -inf\n",
      "[LightGBM] [Warning] No further splits with positive gain, best gain: -inf\n",
      "[LightGBM] [Warning] No further splits with positive gain, best gain: -inf\n",
      "[LightGBM] [Warning] No further splits with positive gain, best gain: -inf\n",
      "[LightGBM] [Warning] No further splits with positive gain, best gain: -inf\n",
      "[LightGBM] [Warning] No further splits with positive gain, best gain: -inf\n",
      "[LightGBM] [Warning] No further splits with positive gain, best gain: -inf\n",
      "[LightGBM] [Warning] No further splits with positive gain, best gain: -inf\n",
      "[LightGBM] [Warning] No further splits with positive gain, best gain: -inf\n",
      "[LightGBM] [Warning] No further splits with positive gain, best gain: -inf\n",
      "[LightGBM] [Warning] No further splits with positive gain, best gain: -inf\n",
      "[LightGBM] [Warning] No further splits with positive gain, best gain: -inf\n",
      "[LightGBM] [Warning] No further splits with positive gain, best gain: -inf\n",
      "[LightGBM] [Warning] No further splits with positive gain, best gain: -inf\n"
     ]
    },
    {
     "data": {
      "text/plain": [
       "LGBMClassifier(max_depth=10, n_estimators=200, num_leaves=900, silent=False)"
      ]
     },
     "execution_count": 104,
     "metadata": {},
     "output_type": "execute_result"
    }
   ],
   "source": [
    "grid_search.fit(x_train_std,y_train)\n",
    "grid_search.best_estimator_"
   ]
  },
  {
   "cell_type": "code",
   "execution_count": 346,
   "metadata": {},
   "outputs": [],
   "source": [
    "lbgm=lgb.LGBMClassifier(max_depth=10, n_estimators=200, scale_pos_weight=4, num_leaves=20)"
   ]
  },
  {
   "cell_type": "code",
   "execution_count": 379,
   "metadata": {},
   "outputs": [
    {
     "data": {
      "text/plain": [
       "LGBMClassifier(max_depth=10, n_estimators=200, num_leaves=20,\n",
       "               scale_pos_weight=4)"
      ]
     },
     "execution_count": 379,
     "metadata": {},
     "output_type": "execute_result"
    }
   ],
   "source": [
    "lbgm.fit(x_train_std,y_train)"
   ]
  },
  {
   "cell_type": "code",
   "execution_count": 223,
   "metadata": {},
   "outputs": [
    {
     "name": "stdout",
     "output_type": "stream",
     "text": [
      "Accuracy: 0.840938\n",
      "f1-score: 0.453906\n"
     ]
    }
   ],
   "source": [
    "y_pred_lbgm = lbgm.predict(x_val_std)\n",
    "print('Accuracy: %f' % accuracy_score(y_val, y_pred_lbgm))\n",
    "print('f1-score: %f' % f1_score(y_val, y_pred_lbgm))"
   ]
  },
  {
   "cell_type": "code",
   "execution_count": 224,
   "metadata": {},
   "outputs": [
    {
     "data": {
      "text/plain": [
       "<matplotlib.axes._subplots.AxesSubplot at 0x7f9be0f17b50>"
      ]
     },
     "execution_count": 224,
     "metadata": {},
     "output_type": "execute_result"
    },
    {
     "data": {
      "image/png": "[encoded data removed]",
      "text/plain": [
       "<Figure size 432x288 with 2 Axes>"
      ]
     },
     "metadata": {
      "needs_background": "light"
     },
     "output_type": "display_data"
    }
   ],
   "source": [
    "cm=confusion_matrix(y_val,y_pred_lbgm)\n",
    "plt.figure(figsize=(6,4))\n",
    "sns.heatmap(cm,annot=True,cmap='Blues')"
   ]
  },
  {
   "cell_type": "markdown",
   "metadata": {},
   "source": [
    "##### Drop NA>9 std cat"
   ]
  },
  {
   "cell_type": "code",
   "execution_count": 380,
   "metadata": {},
   "outputs": [
    {
     "name": "stdout",
     "output_type": "stream",
     "text": [
      "Accuracy: 0.841962\n",
      "f1-score: 0.453365\n"
     ]
    }
   ],
   "source": [
    "y_pred_lbgm = lbgm.predict(x_val_std)\n",
    "print('Accuracy: %f' % accuracy_score(y_val, y_pred_lbgm))\n",
    "print('f1-score: %f' % f1_score(y_val, y_pred_lbgm))"
   ]
  },
  {
   "cell_type": "code",
   "execution_count": 349,
   "metadata": {},
   "outputs": [
    {
     "data": {
      "text/plain": [
       "<matplotlib.axes._subplots.AxesSubplot at 0x7f9be0f93940>"
      ]
     },
     "execution_count": 349,
     "metadata": {},
     "output_type": "execute_result"
    },
    {
     "data": {
      "image/png": "[encoded data removed]",
      "text/plain": [
       "<Figure size 432x288 with 2 Axes>"
      ]
     },
     "metadata": {
      "needs_background": "light"
     },
     "output_type": "display_data"
    }
   ],
   "source": [
    "cm=confusion_matrix(y_val,y_pred_lbgm)\n",
    "plt.figure(figsize=(6,4))\n",
    "sns.heatmap(cm,annot=True,cmap='Blues')"
   ]
  },
  {
   "cell_type": "markdown",
   "metadata": {},
   "source": [
    "## Craete Ans "
   ]
  },
  {
   "cell_type": "code",
   "execution_count": 282,
   "metadata": {},
   "outputs": [],
   "source": [
    "ans_pred = lbgm.predict(x_test_std)\n",
    "df_sap = pd.DataFrame(ans_pred.astype(int), columns = ['Weather'])\n",
    "df_sap.to_csv('lbgm_drop_na.csv',  index_label = 'Id')"
   ]
  },
  {
   "cell_type": "code",
   "execution_count": null,
   "metadata": {},
   "outputs": [],
   "source": []
  }
 ],
 "metadata": {
  "kernelspec": {
   "display_name": "Python 3",
   "language": "python",
   "name": "python3"
  },
  "language_info": {
   "codemirror_mode": {
    "name": "ipython",
    "version": 3
   },
   "file_extension": ".py",
   "mimetype": "text/x-python",
   "name": "python",
   "nbconvert_exporter": "python",
   "pygments_lexer": "ipython3",
   "version": "3.8.3"
  }
 },
 "nbformat": 4,
 "nbformat_minor": 4
}
